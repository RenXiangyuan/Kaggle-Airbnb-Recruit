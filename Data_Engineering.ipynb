{
 "cells": [
  {
   "cell_type": "markdown",
   "metadata": {
    "collapsed": true
   },
   "source": [
    "# This is the data engineering scripts for team 8\n",
    "## Group Members: Pryor Vo, Xiangyuan Ren, Peng Chen, Ge Chang, Siqi Qin"
   ]
  },
  {
   "cell_type": "code",
   "execution_count": 1,
   "metadata": {
    "collapsed": true
   },
   "outputs": [],
   "source": [
    "import numpy as np\n",
    "import pandas as pd\n",
    "import warnings\n",
    "import matplotlib.pyplot as plt\n",
    "import seaborn as sns\n",
    "import ipywidgets as widgets\n",
    "# Draw inline\n",
    "%matplotlib inline\n",
    "sns.set_style(\"white\", {'ytick.major.size': 10.0})\n",
    "sns.set_context(\"poster\", font_scale = 1.1)"
   ]
  },
  {
   "cell_type": "code",
   "execution_count": 2,
   "metadata": {
    "collapsed": true
   },
   "outputs": [],
   "source": [
    "warnings.filterwarnings('ignore')\n",
    "\n",
    "sessions= pd.read_csv('input/sessions.csv')\n",
    "train_users = pd.read_csv('input/train_users_2.csv')\n",
    "test_users = pd.read_csv('input/test_users.csv')\n",
    "age_gender_buckets=pd.read_csv('input/age_gender_bkts.csv')\n",
    "countries=pd.read_csv('input/countries.csv')"
   ]
  },
  {
   "cell_type": "markdown",
   "metadata": {},
   "source": [
    "# Basic Visualization and Pre-processing"
   ]
  },
  {
   "cell_type": "code",
   "execution_count": 3,
   "metadata": {},
   "outputs": [
    {
     "data": {
      "text/html": [
       "<div>\n",
       "<style>\n",
       "    .dataframe thead tr:only-child th {\n",
       "        text-align: right;\n",
       "    }\n",
       "\n",
       "    .dataframe thead th {\n",
       "        text-align: left;\n",
       "    }\n",
       "\n",
       "    .dataframe tbody tr th {\n",
       "        vertical-align: top;\n",
       "    }\n",
       "</style>\n",
       "<table border=\"1\" class=\"dataframe\">\n",
       "  <thead>\n",
       "    <tr style=\"text-align: right;\">\n",
       "      <th></th>\n",
       "      <th>id</th>\n",
       "      <th>date_account_created</th>\n",
       "      <th>timestamp_first_active</th>\n",
       "      <th>date_first_booking</th>\n",
       "      <th>gender</th>\n",
       "      <th>age</th>\n",
       "      <th>signup_method</th>\n",
       "      <th>signup_flow</th>\n",
       "      <th>language</th>\n",
       "      <th>affiliate_channel</th>\n",
       "      <th>affiliate_provider</th>\n",
       "      <th>first_affiliate_tracked</th>\n",
       "      <th>signup_app</th>\n",
       "      <th>first_device_type</th>\n",
       "      <th>first_browser</th>\n",
       "      <th>country_destination</th>\n",
       "    </tr>\n",
       "  </thead>\n",
       "  <tbody>\n",
       "    <tr>\n",
       "      <th>0</th>\n",
       "      <td>gxn3p5htnn</td>\n",
       "      <td>2010-06-28</td>\n",
       "      <td>20090319043255</td>\n",
       "      <td>NaN</td>\n",
       "      <td>-unknown-</td>\n",
       "      <td>NaN</td>\n",
       "      <td>facebook</td>\n",
       "      <td>0</td>\n",
       "      <td>en</td>\n",
       "      <td>direct</td>\n",
       "      <td>direct</td>\n",
       "      <td>untracked</td>\n",
       "      <td>Web</td>\n",
       "      <td>Mac Desktop</td>\n",
       "      <td>Chrome</td>\n",
       "      <td>NDF</td>\n",
       "    </tr>\n",
       "    <tr>\n",
       "      <th>1</th>\n",
       "      <td>820tgsjxq7</td>\n",
       "      <td>2011-05-25</td>\n",
       "      <td>20090523174809</td>\n",
       "      <td>NaN</td>\n",
       "      <td>MALE</td>\n",
       "      <td>38.0</td>\n",
       "      <td>facebook</td>\n",
       "      <td>0</td>\n",
       "      <td>en</td>\n",
       "      <td>seo</td>\n",
       "      <td>google</td>\n",
       "      <td>untracked</td>\n",
       "      <td>Web</td>\n",
       "      <td>Mac Desktop</td>\n",
       "      <td>Chrome</td>\n",
       "      <td>NDF</td>\n",
       "    </tr>\n",
       "    <tr>\n",
       "      <th>2</th>\n",
       "      <td>4ft3gnwmtx</td>\n",
       "      <td>2010-09-28</td>\n",
       "      <td>20090609231247</td>\n",
       "      <td>2010-08-02</td>\n",
       "      <td>FEMALE</td>\n",
       "      <td>56.0</td>\n",
       "      <td>basic</td>\n",
       "      <td>3</td>\n",
       "      <td>en</td>\n",
       "      <td>direct</td>\n",
       "      <td>direct</td>\n",
       "      <td>untracked</td>\n",
       "      <td>Web</td>\n",
       "      <td>Windows Desktop</td>\n",
       "      <td>IE</td>\n",
       "      <td>US</td>\n",
       "    </tr>\n",
       "    <tr>\n",
       "      <th>3</th>\n",
       "      <td>bjjt8pjhuk</td>\n",
       "      <td>2011-12-05</td>\n",
       "      <td>20091031060129</td>\n",
       "      <td>2012-09-08</td>\n",
       "      <td>FEMALE</td>\n",
       "      <td>42.0</td>\n",
       "      <td>facebook</td>\n",
       "      <td>0</td>\n",
       "      <td>en</td>\n",
       "      <td>direct</td>\n",
       "      <td>direct</td>\n",
       "      <td>untracked</td>\n",
       "      <td>Web</td>\n",
       "      <td>Mac Desktop</td>\n",
       "      <td>Firefox</td>\n",
       "      <td>other</td>\n",
       "    </tr>\n",
       "    <tr>\n",
       "      <th>4</th>\n",
       "      <td>87mebub9p4</td>\n",
       "      <td>2010-09-14</td>\n",
       "      <td>20091208061105</td>\n",
       "      <td>2010-02-18</td>\n",
       "      <td>-unknown-</td>\n",
       "      <td>41.0</td>\n",
       "      <td>basic</td>\n",
       "      <td>0</td>\n",
       "      <td>en</td>\n",
       "      <td>direct</td>\n",
       "      <td>direct</td>\n",
       "      <td>untracked</td>\n",
       "      <td>Web</td>\n",
       "      <td>Mac Desktop</td>\n",
       "      <td>Chrome</td>\n",
       "      <td>US</td>\n",
       "    </tr>\n",
       "  </tbody>\n",
       "</table>\n",
       "</div>"
      ],
      "text/plain": [
       "           id date_account_created  timestamp_first_active date_first_booking  \\\n",
       "0  gxn3p5htnn           2010-06-28          20090319043255                NaN   \n",
       "1  820tgsjxq7           2011-05-25          20090523174809                NaN   \n",
       "2  4ft3gnwmtx           2010-09-28          20090609231247         2010-08-02   \n",
       "3  bjjt8pjhuk           2011-12-05          20091031060129         2012-09-08   \n",
       "4  87mebub9p4           2010-09-14          20091208061105         2010-02-18   \n",
       "\n",
       "      gender   age signup_method  signup_flow language affiliate_channel  \\\n",
       "0  -unknown-   NaN      facebook            0       en            direct   \n",
       "1       MALE  38.0      facebook            0       en               seo   \n",
       "2     FEMALE  56.0         basic            3       en            direct   \n",
       "3     FEMALE  42.0      facebook            0       en            direct   \n",
       "4  -unknown-  41.0         basic            0       en            direct   \n",
       "\n",
       "  affiliate_provider first_affiliate_tracked signup_app first_device_type  \\\n",
       "0             direct               untracked        Web       Mac Desktop   \n",
       "1             google               untracked        Web       Mac Desktop   \n",
       "2             direct               untracked        Web   Windows Desktop   \n",
       "3             direct               untracked        Web       Mac Desktop   \n",
       "4             direct               untracked        Web       Mac Desktop   \n",
       "\n",
       "  first_browser country_destination  \n",
       "0        Chrome                 NDF  \n",
       "1        Chrome                 NDF  \n",
       "2            IE                  US  \n",
       "3       Firefox               other  \n",
       "4        Chrome                  US  "
      ]
     },
     "execution_count": 3,
     "metadata": {},
     "output_type": "execute_result"
    }
   ],
   "source": [
    "train_users.head()"
   ]
  },
  {
   "cell_type": "markdown",
   "metadata": {},
   "source": [
    "## Visualization of Population in Destination Countries"
   ]
  },
  {
   "cell_type": "code",
   "execution_count": 4,
   "metadata": {
    "collapsed": true
   },
   "outputs": [],
   "source": [
    "buckets=['0-4','5-9','10-14','15-19','20-24','25-29','30-34','35-39','40-44','45-49','50-54','55-59','60-64',  \\\n",
    "         '65-69','70-74','75-79','80-84','85-89','90-94','95-99','100+']"
   ]
  },
  {
   "cell_type": "code",
   "execution_count": 5,
   "metadata": {},
   "outputs": [
    {
     "data": {
      "application/vnd.jupyter.widget-view+json": {
       "model_id": "73b56ddc77f94882bb5e32f7ac2ffe51",
       "version_major": 2,
       "version_minor": 0
      },
      "text/plain": [
       "A Jupyter Widget"
      ]
     },
     "metadata": {},
     "output_type": "display_data"
    },
    {
     "data": {
      "text/plain": [
       "<function __main__.country_info>"
      ]
     },
     "execution_count": 5,
     "metadata": {},
     "output_type": "execute_result"
    }
   ],
   "source": [
    "gender=widgets.RadioButtons(\n",
    "    options=['male', 'female'],\n",
    "    description='Gender:',\n",
    "    disabled=False\n",
    ")\n",
    "destination=widgets.RadioButtons(\n",
    "    options=list(countries.country_destination),\n",
    "    description='Country:',\n",
    "    disabled=False\n",
    ")\n",
    "def country_info(gender, destination):\n",
    "    '''\n",
    "    This function performs the visualization of population in a certain country\n",
    "    You can switch among different destination countries and genders\n",
    "    *param gender: the gender of population you want to visualize\n",
    "    *param destination: the destination country of population you want to visualize\n",
    "    '''\n",
    "    country_pop=age_gender_buckets.loc[(age_gender_buckets['country_destination'] == destination) & (age_gender_buckets['gender']==gender),('age_bucket','population_in_thousands')]\n",
    "    pop=[float(country_pop.loc[country_pop['age_bucket']==i,'population_in_thousands']) for i in buckets]\n",
    "    y_pos = range(0,101,5)\n",
    "    y_val=pop\n",
    "    if gender=='female':\n",
    "        plt.bar(y_pos, y_val, align='edge', alpha=0.5,color='#F35FCD',width=4)\n",
    "    elif gender=='male':\n",
    "        plt.bar(y_pos, y_val, align='edge', alpha=0.5,color='#00AFFF',width=4)\n",
    "    plt.xticks(range(0,101,5), rotation = 70)\n",
    "    plt.xlabel('Ages')\n",
    "    plt.ylabel('Population in Thousands')\n",
    "    plt.show()\n",
    "widgets.interact(country_info,gender=gender,destination=destination)"
   ]
  },
  {
   "cell_type": "markdown",
   "metadata": {},
   "source": [
    "## Visualization of Gender and Destination Related Stuffs"
   ]
  },
  {
   "cell_type": "code",
   "execution_count": 6,
   "metadata": {},
   "outputs": [
    {
     "data": {
      "text/plain": [
       "count    250922.000000\n",
       "mean         49.668335\n",
       "std         155.666302\n",
       "min           1.000000\n",
       "25%          28.000000\n",
       "50%          34.000000\n",
       "75%          43.000000\n",
       "max        2014.000000\n",
       "Name: age, dtype: float64"
      ]
     },
     "execution_count": 6,
     "metadata": {},
     "output_type": "execute_result"
    }
   ],
   "source": [
    "users = pd.concat((train_users, test_users), axis=0, ignore_index=True)\n",
    "users.gender.replace('-unknown-', np.nan, inplace=True)\n",
    "users.age.describe()"
   ]
  },
  {
   "cell_type": "markdown",
   "metadata": {},
   "source": [
    "Distribution of destination country regarding gender"
   ]
  },
  {
   "cell_type": "code",
   "execution_count": 7,
   "metadata": {},
   "outputs": [
    {
     "data": {
      "image/png": "[encoded data removed]",
      "text/plain": [
       "<matplotlib.figure.Figure at 0x10d61dbd0>"
      ]
     },
     "metadata": {},
     "output_type": "display_data"
    }
   ],
   "source": [
    "women = sum(users['gender'] == 'FEMALE')\n",
    "men = sum(users['gender'] == 'MALE')\n",
    "\n",
    "female_destinations = users.loc[users['gender'] == 'FEMALE', 'country_destination'].value_counts() / women * 100\n",
    "male_destinations = users.loc[users['gender'] == 'MALE', 'country_destination'].value_counts() / men * 100\n",
    "\n",
    "male_destinations.plot(kind='bar', width=0.4, color='#00AFFF', position=0, label='Male', rot=0)\n",
    "female_destinations.plot(kind='bar', width=0.4, color='#F35FCD', position=1, label='Female', rot=0)\n",
    "\n",
    "plt.legend()\n",
    "plt.xlabel('Destination Country')\n",
    "plt.ylabel('Percentage')\n",
    "\n",
    "sns.despine()\n",
    "plt.show()"
   ]
  },
  {
   "cell_type": "markdown",
   "metadata": {},
   "source": [
    "Distribution of ages within 15 to 96"
   ]
  },
  {
   "cell_type": "code",
   "execution_count": 8,
   "metadata": {},
   "outputs": [
    {
     "data": {
      "image/png": "[encoded data removed]",
      "text/plain": [
       "<matplotlib.figure.Figure at 0x1a139f4d10>"
      ]
     },
     "metadata": {},
     "output_type": "display_data"
    }
   ],
   "source": [
    "users.loc[users.age > 96, 'age'] = np.nan\n",
    "users.loc[users.age < 15, 'age'] = np.nan\n",
    "sns.distplot(users.age.dropna(), color='#FD5C64')\n",
    "\n",
    "plt.xlabel('Age')\n",
    "sns.despine()\n",
    "plt.show()"
   ]
  },
  {
   "cell_type": "markdown",
   "metadata": {},
   "source": [
    "## Country destination booking ratio of [destination] vs [All other countries excluding Not Defined]"
   ]
  },
  {
   "cell_type": "code",
   "execution_count": 9,
   "metadata": {},
   "outputs": [
    {
     "data": {
      "application/vnd.jupyter.widget-view+json": {
       "model_id": "bd019f1cb4c647cf9157fcee4f41e6cf",
       "version_major": 2,
       "version_minor": 0
      },
      "text/plain": [
       "A Jupyter Widget"
      ]
     },
     "metadata": {},
     "output_type": "display_data"
    },
    {
     "data": {
      "text/plain": [
       "<function __main__.find_destination_ratio>"
      ]
     },
     "execution_count": 9,
     "metadata": {},
     "output_type": "execute_result"
    }
   ],
   "source": [
    "x=widgets.RadioButtons(\n",
    "    options=list(countries.country_destination)+['other'],\n",
    "    value='US',\n",
    "    description='Country info from...',\n",
    "    disabled=False,\n",
    ")\n",
    "y=widgets.SelectionSlider(\n",
    "    options=[2,4,5,10,16,20],\n",
    "    value=5,\n",
    "    description='Age jumps (end point uninclusive)',\n",
    "    disabled=False,\n",
    "    continuous_update=False,\n",
    "    orientation='horizontal',\n",
    "    readout=True\n",
    ")\n",
    "def find_destination_ratio(destination,age_interval):\n",
    "    '''\n",
    "    This function shows the ratio of booking in given destination vs other countries (excluding NDF)\n",
    "    *param destination: the target country destination that you want to analyse with \n",
    "    *param age_interval: the age step for the x axis (age)\n",
    "    '''\n",
    "    #Establish different dataframes to compare\n",
    "    df=users.loc[users['country_destination'] == destination, 'age'];\n",
    "    df_comparison=users.loc[users['country_destination'] != destination, 'age']\n",
    "    df_comparison2=users.loc[users['country_destination'] == 'NDF', 'age']\n",
    "    \n",
    "    #Create age pools for better graph readability\n",
    "    bins=range(15,96,age_interval)\n",
    "    \n",
    "    #Value count for each pool in each dataframe, reindexed to be in order\n",
    "    count_interval=pd.cut(df,bins=bins,right=False).value_counts().reindex(pd.cut(df,bins=bins,right=False).cat.categories)\n",
    "    count_comparison=pd.cut(df_comparison,bins=bins,right=False).value_counts().reindex(pd.cut(df_comparison,bins=bins,right=False).cat.categories)-pd.cut(df_comparison2,bins=bins,right=False).value_counts().reindex(pd.cut(df_comparison2,bins=bins,right=False).cat.categories)\n",
    "    \n",
    "    #Put into numpy array to plot\n",
    "    users_booking_pools=np.array(count_interval,dtype=float)\n",
    "    users_booking_comparison=np.array(count_comparison,dtype=float)\n",
    "    users_booking_percent=users_booking_pools/users_booking_comparison*100\n",
    "    \n",
    "    #Plot\n",
    "    y_pos = xrange(15,95,age_interval)\n",
    "    y_val=users_booking_percent\n",
    "    plt.bar(y_pos, y_val, align='edge', alpha=0.5,color='#FFA35D',width=100/(len(xrange(15,96,age_interval))+5))\n",
    "    plt.xticks(xrange(15,96,age_interval), rotation = 90)\n",
    "    plt.xlabel('Ages')\n",
    "    plt.ylabel('Percent of Users Who Book for %s vs Other Countries' % x.options[x.index])\n",
    "    plt.show()\n",
    "widgets.interact(find_destination_ratio,destination=x,age_interval=y)"
   ]
  },
  {
   "cell_type": "markdown",
   "metadata": {},
   "source": [
    "## Comparison of different country bookings with a set age threshold"
   ]
  },
  {
   "cell_type": "code",
   "execution_count": 10,
   "metadata": {},
   "outputs": [
    {
     "data": {
      "application/vnd.jupyter.widget-view+json": {
       "model_id": "ee78c29431f84466a5e2c476be8e348c",
       "version_major": 2,
       "version_minor": 0
      },
      "text/plain": [
       "A Jupyter Widget"
      ]
     },
     "metadata": {},
     "output_type": "display_data"
    },
    {
     "data": {
      "text/plain": [
       "<function __main__.find_destination_ratio_agethreshold>"
      ]
     },
     "execution_count": 10,
     "metadata": {},
     "output_type": "execute_result"
    }
   ],
   "source": [
    "\n",
    "age=widgets.SelectionSlider(\n",
    "    options=range(18,91,2),\n",
    "    value=50,\n",
    "    description='Age threshold at.....',\n",
    "    disabled=False,\n",
    "    continuous_update=True,\n",
    "    orientation='horizontal',\n",
    "    readout=True\n",
    ")\n",
    "\n",
    "def find_destination_ratio_agethreshold(age):\n",
    "    '''\n",
    "    This function shows the booking ratio of younger and older groups splitting with the given age threshold\n",
    "    *param age: the age threshold used to split younger and older.\n",
    "    '''\n",
    "    younger = sum(users.loc[users['age'] < age, 'country_destination'].value_counts())\n",
    "    older = sum(users.loc[users['age'] > age, 'country_destination'].value_counts())\n",
    "\n",
    "    younger_destinations = users.loc[users['age'] < age, 'country_destination'].value_counts() / younger * 100\n",
    "    older_destinations = users.loc[users['age'] > age, 'country_destination'].value_counts() / older * 100\n",
    "\n",
    "    younger_destinations.plot(kind='bar', width=0.4, color='#00FFFF', position=0, label='Youngers', rot=0)\n",
    "    older_destinations.plot(kind='bar', width=0.4, color='#FFA500', position=1, label='Olders', rot=0)\n",
    "\n",
    "    plt.legend()\n",
    "    plt.xlabel('Destination Country')\n",
    "    plt.ylabel('Percentage')\n",
    "\n",
    "    sns.despine()\n",
    "    plt.show()\n",
    "widgets.interact(find_destination_ratio_agethreshold,age=age)"
   ]
  },
  {
   "cell_type": "markdown",
   "metadata": {},
   "source": [
    "In this part, we shall specifically focus on the three items: affiliate_channel affiliate_provider first_affiliate_tracked\n",
    "The meaning of the three items are:\n",
    "    1. affiliate_channel: what kind of paid marketing\n",
    "    2. affiliate_provider: where the marketing is e.g. google, craigslist, other\n",
    "    3. first_affiliate_tracked: whats the first marketing the user interacted with before the signing up"
   ]
  },
  {
   "cell_type": "code",
   "execution_count": 11,
   "metadata": {},
   "outputs": [
    {
     "name": "stdout",
     "output_type": "stream",
     "text": [
      "Here are all the potential country_destination:\n",
      "['NDF' 'US' 'other' 'FR' 'CA' 'GB' 'ES' 'IT' 'PT' 'NL' 'DE' 'AU']\n",
      "\n",
      "\n",
      "Here are all the potential affiliate_channel:\n",
      "['direct' 'seo' 'other' 'sem-non-brand' 'content' 'sem-brand' 'remarketing'\n",
      " 'api']\n",
      "\n",
      "\n",
      "Here are all the potential affiliate_provider:\n",
      "['direct' 'google' 'other' 'craigslist' 'facebook' 'vast' 'bing' 'meetup'\n",
      " 'facebook-open-graph' 'email-marketing' 'yahoo' 'padmapper' 'gsp' 'wayn'\n",
      " 'naver' 'baidu' 'yandex' 'daum']\n",
      "\n",
      "\n",
      "Here are all the potential first_affiliate_tracked:\n",
      "['untracked' 'omg' nan 'linked' 'tracked-other' 'product' 'marketing'\n",
      " 'local ops']\n",
      "\n",
      "\n"
     ]
    }
   ],
   "source": [
    "def showUnique(keyword):\n",
    "    '''\n",
    "    This function helps to show the potential unique choices \n",
    "    of a given keyword in the training dataset\n",
    "    * param keyword : the keyword of the information you want\n",
    "    '''\n",
    "    assert isinstance(keyword, str)\n",
    "    selected = train_users[keyword]\n",
    "    selected_unique = selected.unique()\n",
    "    print('Here are all the potential '+ keyword + ':')\n",
    "    print(selected_unique)\n",
    "    print('\\n')\n",
    "\n",
    "affiliate_keywords = ['country_destination', 'affiliate_channel', \\\n",
    "                  'affiliate_provider', 'first_affiliate_tracked']\n",
    "_ = map(showUnique, affiliate_keywords)"
   ]
  },
  {
   "cell_type": "markdown",
   "metadata": {},
   "source": [
    "## Visulization of Affiliate Related Stuffs"
   ]
  },
  {
   "cell_type": "code",
   "execution_count": 12,
   "metadata": {},
   "outputs": [
    {
     "data": {
      "text/html": [
       "<div>\n",
       "<style>\n",
       "    .dataframe thead tr:only-child th {\n",
       "        text-align: right;\n",
       "    }\n",
       "\n",
       "    .dataframe thead th {\n",
       "        text-align: left;\n",
       "    }\n",
       "\n",
       "    .dataframe tbody tr th {\n",
       "        vertical-align: top;\n",
       "    }\n",
       "</style>\n",
       "<table border=\"1\" class=\"dataframe\">\n",
       "  <thead>\n",
       "    <tr style=\"text-align: right;\">\n",
       "      <th></th>\n",
       "      <th>country_destination</th>\n",
       "      <th>affiliate_channel</th>\n",
       "      <th>affiliate_provider</th>\n",
       "      <th>first_affiliate_tracked</th>\n",
       "    </tr>\n",
       "  </thead>\n",
       "  <tbody>\n",
       "    <tr>\n",
       "      <th>0</th>\n",
       "      <td>NDF</td>\n",
       "      <td>direct</td>\n",
       "      <td>direct</td>\n",
       "      <td>untracked</td>\n",
       "    </tr>\n",
       "    <tr>\n",
       "      <th>1</th>\n",
       "      <td>NDF</td>\n",
       "      <td>seo</td>\n",
       "      <td>google</td>\n",
       "      <td>untracked</td>\n",
       "    </tr>\n",
       "    <tr>\n",
       "      <th>2</th>\n",
       "      <td>US</td>\n",
       "      <td>direct</td>\n",
       "      <td>direct</td>\n",
       "      <td>untracked</td>\n",
       "    </tr>\n",
       "    <tr>\n",
       "      <th>3</th>\n",
       "      <td>other</td>\n",
       "      <td>direct</td>\n",
       "      <td>direct</td>\n",
       "      <td>untracked</td>\n",
       "    </tr>\n",
       "    <tr>\n",
       "      <th>4</th>\n",
       "      <td>US</td>\n",
       "      <td>direct</td>\n",
       "      <td>direct</td>\n",
       "      <td>untracked</td>\n",
       "    </tr>\n",
       "  </tbody>\n",
       "</table>\n",
       "</div>"
      ],
      "text/plain": [
       "  country_destination affiliate_channel affiliate_provider  \\\n",
       "0                 NDF            direct             direct   \n",
       "1                 NDF               seo             google   \n",
       "2                  US            direct             direct   \n",
       "3               other            direct             direct   \n",
       "4                  US            direct             direct   \n",
       "\n",
       "  first_affiliate_tracked  \n",
       "0               untracked  \n",
       "1               untracked  \n",
       "2               untracked  \n",
       "3               untracked  \n",
       "4               untracked  "
      ]
     },
     "execution_count": 12,
     "metadata": {},
     "output_type": "execute_result"
    }
   ],
   "source": [
    "utilize = train_users[['country_destination','affiliate_channel','affiliate_provider','first_affiliate_tracked']]\n",
    "utilize.head()"
   ]
  },
  {
   "cell_type": "code",
   "execution_count": 13,
   "metadata": {
    "collapsed": true
   },
   "outputs": [],
   "source": [
    "def uniqueCount_percentage(keyword, limit = -1):\n",
    "    '''\n",
    "    This is the function to visualize distribution of all unique items in train_user[keyword]\n",
    "    * param keyword : the keyword of the information you want\n",
    "    * limit : top limit counted will be considered, default value -1 means all should be counted\n",
    "    '''\n",
    "    print('Result for ' + keyword + '\\n')\n",
    "    all_keys = train_users[keyword]\n",
    "    all_counts = train_users[keyword].value_counts()\n",
    "    book_counts = train_users[train_users['country_destination'] != 'NDF'][keyword].value_counts()\n",
    "    if limit > 0:\n",
    "        all_counts = all_counts[ : limit]\n",
    "        book_counts = book_counts[ : limit]\n",
    "    \n",
    "    # deal with missing value in booking\n",
    "    for d in all_counts.index:\n",
    "        if d not in book_counts.index:\n",
    "            book_counts[d] = 0\n",
    "\n",
    "    per_counts = map(lambda x : book_counts[x] * 1.0 / all_counts[x], all_counts.index)\n",
    "    org_all = map(lambda x : all_counts[x], all_counts.index)\n",
    "    org_book = map(lambda x : book_counts[x], all_counts.index)\n",
    "    org_ndf = map(lambda x,  y: x - y, org_all, org_book)\n",
    "    org_dict = {'Book Customer': org_book, 'NDF Customer': org_ndf, 'Total Customer': org_all, 'Book Percent': per_counts}\n",
    "    df = pd.DataFrame(org_dict, columns = ['Book Customer', 'NDF Customer', 'Total Customer', 'Book Percent'], index = all_counts.index)\n",
    "    print(df)\n",
    "    ax = df[['Book Customer', 'NDF Customer']].plot(kind=\"barh\", stacked=True, figsize=(6, 8))"
   ]
  },
  {
   "cell_type": "code",
   "execution_count": 14,
   "metadata": {},
   "outputs": [
    {
     "name": "stdout",
     "output_type": "stream",
     "text": [
      "Result for affiliate_channel\n",
      "\n",
      "               Book Customer  NDF Customer  Total Customer  Book Percent\n",
      "direct                 59398         78329          137727      0.431273\n",
      "sem-brand              11094         14951           26045      0.425955\n",
      "sem-non-brand           7150         11694           18844      0.379431\n",
      "other                   3600          5361            8961      0.401741\n",
      "seo                     3955          4708            8663      0.456539\n",
      "api                     2785          5382            8167      0.341006\n",
      "content                  558          3390            3948      0.141337\n",
      "remarketing              368           728            1096      0.335766\n"
     ]
    },
    {
     "data": {
      "image/png": "[encoded data removed]",
      "text/plain": [
       "<matplotlib.figure.Figure at 0x1a1313bbd0>"
      ]
     },
     "metadata": {},
     "output_type": "display_data"
    }
   ],
   "source": [
    "uniqueCount_percentage('affiliate_channel', -1)"
   ]
  },
  {
   "cell_type": "markdown",
   "metadata": {},
   "source": [
    "In this part, we can see that among all the affiliate channels, direct, seo are tht most two popular paid marketing ways. Paid search marketing means you advertise within the sponsored listings of a search engine or a partner site by paying either each time your ad is clicked (pay-per-click - PPC) or less commonly, when your ad is displayed (cost-per-impression - CPM). Therefore we can see that most customer come into airbnb without using mach paid marketing method."
   ]
  },
  {
   "cell_type": "code",
   "execution_count": 15,
   "metadata": {},
   "outputs": [
    {
     "name": "stdout",
     "output_type": "stream",
     "text": [
      "Result for affiliate_provider\n",
      "\n",
      "                     Book Customer  NDF Customer  Total Customer  Book Percent\n",
      "direct                       59234         78192          137426      0.431025\n",
      "google                       20779         30914           51693      0.401969\n",
      "other                         4663          7886           12549      0.371583\n",
      "craigslist                    1616          1855            3471      0.465572\n",
      "bing                           833          1495            2328      0.357818\n",
      "facebook                       792          1481            2273      0.348438\n",
      "vast                           271           558             829      0.326900\n",
      "padmapper                      252           516             768      0.328125\n",
      "facebook-open-graph            141           404             545      0.258716\n",
      "yahoo                          174           322             496      0.350806\n",
      "gsp                             37           416             453      0.081678\n",
      "meetup                          46           301             347      0.132565\n",
      "email-marketing                 37           129             166      0.222892\n",
      "naver                           18            34              52      0.346154\n",
      "baidu                           10            19              29      0.344828\n",
      "yandex                           4            13              17      0.235294\n",
      "wayn                             0             8               8      0.000000\n",
      "daum                             1             0               1      1.000000\n"
     ]
    },
    {
     "data": {
      "image/png": "[encoded data removed]",
      "text/plain": [
       "<matplotlib.figure.Figure at 0x1a130ece90>"
      ]
     },
     "metadata": {},
     "output_type": "display_data"
    }
   ],
   "source": [
    "uniqueCount_percentage('affiliate_provider', -1)"
   ]
  },
  {
   "cell_type": "markdown",
   "metadata": {},
   "source": [
    "From this plot we can see that most paid marketings lie in the Google except the diret paid marketing way. It means we may invest more paid marketing ways which is highly related to the Google. "
   ]
  },
  {
   "cell_type": "code",
   "execution_count": 16,
   "metadata": {},
   "outputs": [
    {
     "name": "stdout",
     "output_type": "stream",
     "text": [
      "Result for first_affiliate_tracked\n",
      "\n",
      "               Book Customer  NDF Customer  Total Customer  Book Percent\n",
      "untracked              47739         61493          109232      0.437042\n",
      "linked                 20102         26185           46287      0.434290\n",
      "omg                    16425         27557           43982      0.373448\n",
      "tracked-other           2290          3866            6156      0.371995\n",
      "product                  542          1014            1556      0.348329\n",
      "marketing                 63            76             139      0.453237\n",
      "local ops                  9            25              34      0.264706\n"
     ]
    },
    {
     "data": {
      "image/png": "[encoded data removed]",
      "text/plain": [
       "<matplotlib.figure.Figure at 0x1a13133790>"
      ]
     },
     "metadata": {},
     "output_type": "display_data"
    }
   ],
   "source": [
    "uniqueCount_percentage('first_affiliate_tracked', -1)"
   ]
  },
  {
   "cell_type": "markdown",
   "metadata": {
    "collapsed": true
   },
   "source": [
    "The first_affiliate_tracked means that before signing up, what is the first marketing the user is interacted with. It shows that the aside from the untracked information, the OMG group (a marketing company has the most affect with highest user interacting number). Another popular company the user is interacting is NAN group.\n",
    "\n",
    "This shows that when the user are interacting with omg and nan, they have more potential to log into the airbnb."
   ]
  },
  {
   "cell_type": "markdown",
   "metadata": {},
   "source": [
    "# Data Analysis of Affiliate Related Stuffs"
   ]
  },
  {
   "cell_type": "markdown",
   "metadata": {},
   "source": [
    "Based on the data visulization we obtained in the former chapter, we can put the two assumptions here:\n",
    "   1. A large scale of customer sign up and make the booking directly without any optimization methods, this means that they have strong motivation and goal to start their trip using airbnb.\n",
    "   2. Using Google with omg/nan might be the most common way user make booking aside from the direct way.\n",
    "   \n",
    "Next thing we want to do check the age composition in the differemt choices"
   ]
  },
  {
   "cell_type": "markdown",
   "metadata": {},
   "source": [
    "## Age composition between Google and Direct"
   ]
  },
  {
   "cell_type": "code",
   "execution_count": 17,
   "metadata": {
    "collapsed": true
   },
   "outputs": [],
   "source": [
    "def box_hist(target, keyword):\n",
    "    '''\n",
    "    This function draws the box plot of data with given keyword equals the target one\n",
    "    *param target: the target value which the data[keyword] should be equal to\n",
    "    *param keyword: the keyword of data that you are interested in\n",
    "    '''\n",
    "    age_group  = train_users[['country_destination','affiliate_channel','affiliate_provider','first_affiliate_tracked','age']]\n",
    "    age_group = age_group[age_group['age']>=60]\n",
    "    age_group = age_group[age_group['age']<=80]\n",
    "    df_3 = age_group[age_group[keyword]==target]\n",
    "    df_3 = df_3['age']\n",
    "    plt.figure()\n",
    "    df_3.plot.hist(stacked=True, bins=20)\n",
    "    plt.figure()\n",
    "    df_3.plot.box()"
   ]
  },
  {
   "cell_type": "code",
   "execution_count": 18,
   "metadata": {},
   "outputs": [
    {
     "data": {
      "image/png": "[encoded data removed]",
      "text/plain": [
       "<matplotlib.figure.Figure at 0x1a131d9610>"
      ]
     },
     "metadata": {},
     "output_type": "display_data"
    },
    {
     "data": {
      "image/png": "[encoded data removed]",
      "text/plain": [
       "<matplotlib.figure.Figure at 0x1a131aa890>"
      ]
     },
     "metadata": {},
     "output_type": "display_data"
    }
   ],
   "source": [
    "box_hist('google','affiliate_provider')"
   ]
  },
  {
   "cell_type": "code",
   "execution_count": 19,
   "metadata": {},
   "outputs": [
    {
     "data": {
      "image/png": "[encoded data removed]",
      "text/plain": [
       "<matplotlib.figure.Figure at 0x1a137d27d0>"
      ]
     },
     "metadata": {},
     "output_type": "display_data"
    },
    {
     "data": {
      "image/png": "[encoded data removed]",
      "text/plain": [
       "<matplotlib.figure.Figure at 0x1a13843d10>"
      ]
     },
     "metadata": {},
     "output_type": "display_data"
    }
   ],
   "source": [
    "box_hist('direct','affiliate_provider')"
   ]
  },
  {
   "cell_type": "markdown",
   "metadata": {},
   "source": [
    "We had a research on the old group people as the young age group has the similar distribution in both 'direct' and 'google'.\n",
    "From the box plots and histogram plots we can see the user using google has a larger variance and more popular in the old group whose age is larger than 60. This means they may reach the google to get to know ther airbnb first."
   ]
  },
  {
   "cell_type": "markdown",
   "metadata": {},
   "source": [
    "## Age composition in omg group"
   ]
  },
  {
   "cell_type": "code",
   "execution_count": 20,
   "metadata": {},
   "outputs": [
    {
     "data": {
      "image/png": "[encoded data removed]",
      "text/plain": [
       "<matplotlib.figure.Figure at 0x1a137d2a50>"
      ]
     },
     "metadata": {},
     "output_type": "display_data"
    },
    {
     "data": {
      "image/png": "[encoded data removed]",
      "text/plain": [
       "<matplotlib.figure.Figure at 0x1a14304f90>"
      ]
     },
     "metadata": {},
     "output_type": "display_data"
    }
   ],
   "source": [
    "box_hist('omg','first_affiliate_tracked')"
   ]
  },
  {
   "cell_type": "markdown",
   "metadata": {},
   "source": [
    "From this part, we can draw the conclusion that the variance of 'OMG' group is much larger than the average group. This means this group may have a wider customer range."
   ]
  },
  {
   "cell_type": "markdown",
   "metadata": {},
   "source": [
    "In  this part, we want to figure out how users interacted with \"Sharing Economy\" by looking into the distribution of assorted records;\n",
    "\n",
    "In the figure of # Visulization of affiliate_Provider, we can see that the 'direct' method outnumbers other methods in a siginificant scale,\n",
    "This indicates that most users reach the airbnb directly. This means that they mght have known and accepted the concepts of \"sharing economy\" and willing to give it a shot. To further boraden the market, we may want to spread the sharing economy first and then the user may want to accept the concept.\n",
    "\n",
    "\n",
    "The next thing we focus on is the old age group between the 'google' and 'direct' way, from this picture we can see that though the number difference between the 'direct' and 'google' is relatively large, the difference in the old group is not obvious, this support our conslusion that the airbnb is not that popular in the old group (judged by whether they can reach airbnb by 'direct' way). The reason for this result may be that the sharing economy is not that popular in the old group. "
   ]
  },
  {
   "cell_type": "markdown",
   "metadata": {},
   "source": [
    "# Sessions Part"
   ]
  },
  {
   "cell_type": "markdown",
   "metadata": {},
   "source": [
    "Extract user_id and destination for easier merge, shorten_users contains id and destination only"
   ]
  },
  {
   "cell_type": "code",
   "execution_count": 21,
   "metadata": {},
   "outputs": [
    {
     "data": {
      "text/html": [
       "<div>\n",
       "<style>\n",
       "    .dataframe thead tr:only-child th {\n",
       "        text-align: right;\n",
       "    }\n",
       "\n",
       "    .dataframe thead th {\n",
       "        text-align: left;\n",
       "    }\n",
       "\n",
       "    .dataframe tbody tr th {\n",
       "        vertical-align: top;\n",
       "    }\n",
       "</style>\n",
       "<table border=\"1\" class=\"dataframe\">\n",
       "  <thead>\n",
       "    <tr style=\"text-align: right;\">\n",
       "      <th></th>\n",
       "      <th>user_id</th>\n",
       "      <th>country_destination</th>\n",
       "    </tr>\n",
       "  </thead>\n",
       "  <tbody>\n",
       "    <tr>\n",
       "      <th>0</th>\n",
       "      <td>gxn3p5htnn</td>\n",
       "      <td>NDF</td>\n",
       "    </tr>\n",
       "    <tr>\n",
       "      <th>1</th>\n",
       "      <td>820tgsjxq7</td>\n",
       "      <td>NDF</td>\n",
       "    </tr>\n",
       "    <tr>\n",
       "      <th>2</th>\n",
       "      <td>4ft3gnwmtx</td>\n",
       "      <td>US</td>\n",
       "    </tr>\n",
       "    <tr>\n",
       "      <th>3</th>\n",
       "      <td>bjjt8pjhuk</td>\n",
       "      <td>other</td>\n",
       "    </tr>\n",
       "    <tr>\n",
       "      <th>4</th>\n",
       "      <td>87mebub9p4</td>\n",
       "      <td>US</td>\n",
       "    </tr>\n",
       "  </tbody>\n",
       "</table>\n",
       "</div>"
      ],
      "text/plain": [
       "      user_id country_destination\n",
       "0  gxn3p5htnn                 NDF\n",
       "1  820tgsjxq7                 NDF\n",
       "2  4ft3gnwmtx                  US\n",
       "3  bjjt8pjhuk               other\n",
       "4  87mebub9p4                  US"
      ]
     },
     "execution_count": 21,
     "metadata": {},
     "output_type": "execute_result"
    }
   ],
   "source": [
    "shorten_users = train_users[['id','country_destination']]\n",
    "shorten_users.rename(columns={'id': 'user_id'}, inplace=True) \n",
    "shorten_users.head()"
   ]
  },
  {
   "cell_type": "markdown",
   "metadata": {},
   "source": [
    "Visualize the distribution of destination in the training set"
   ]
  },
  {
   "cell_type": "code",
   "execution_count": 22,
   "metadata": {},
   "outputs": [
    {
     "name": "stdout",
     "output_type": "stream",
     "text": [
      "   country_destination  user_id\n",
      "0                   AU      539\n",
      "1                   CA     1428\n",
      "2                   DE     1061\n",
      "3                   ES     2249\n",
      "4                   FR     5023\n",
      "5                   GB     2324\n",
      "6                   IT     2835\n",
      "7                  NDF   124543\n",
      "8                   NL      762\n",
      "9                   PT      217\n",
      "10                  US    62376\n",
      "11               other    10094\n"
     ]
    }
   ],
   "source": [
    "print(shorten_users.groupby(['country_destination'])['user_id'].nunique().reset_index())"
   ]
  },
  {
   "cell_type": "markdown",
   "metadata": {},
   "source": [
    "Add labels to data, count = 1 means booking, count = 0 means NDF"
   ]
  },
  {
   "cell_type": "code",
   "execution_count": 23,
   "metadata": {},
   "outputs": [
    {
     "data": {
      "text/html": [
       "<div>\n",
       "<style>\n",
       "    .dataframe thead tr:only-child th {\n",
       "        text-align: right;\n",
       "    }\n",
       "\n",
       "    .dataframe thead th {\n",
       "        text-align: left;\n",
       "    }\n",
       "\n",
       "    .dataframe tbody tr th {\n",
       "        vertical-align: top;\n",
       "    }\n",
       "</style>\n",
       "<table border=\"1\" class=\"dataframe\">\n",
       "  <thead>\n",
       "    <tr style=\"text-align: right;\">\n",
       "      <th></th>\n",
       "      <th>user_id</th>\n",
       "      <th>country_destination</th>\n",
       "      <th>count</th>\n",
       "    </tr>\n",
       "  </thead>\n",
       "  <tbody>\n",
       "    <tr>\n",
       "      <th>0</th>\n",
       "      <td>gxn3p5htnn</td>\n",
       "      <td>NDF</td>\n",
       "      <td>0</td>\n",
       "    </tr>\n",
       "    <tr>\n",
       "      <th>1</th>\n",
       "      <td>820tgsjxq7</td>\n",
       "      <td>NDF</td>\n",
       "      <td>0</td>\n",
       "    </tr>\n",
       "    <tr>\n",
       "      <th>2</th>\n",
       "      <td>4ft3gnwmtx</td>\n",
       "      <td>US</td>\n",
       "      <td>1</td>\n",
       "    </tr>\n",
       "    <tr>\n",
       "      <th>3</th>\n",
       "      <td>bjjt8pjhuk</td>\n",
       "      <td>other</td>\n",
       "      <td>1</td>\n",
       "    </tr>\n",
       "    <tr>\n",
       "      <th>4</th>\n",
       "      <td>87mebub9p4</td>\n",
       "      <td>US</td>\n",
       "      <td>1</td>\n",
       "    </tr>\n",
       "  </tbody>\n",
       "</table>\n",
       "</div>"
      ],
      "text/plain": [
       "      user_id country_destination count\n",
       "0  gxn3p5htnn                 NDF     0\n",
       "1  820tgsjxq7                 NDF     0\n",
       "2  4ft3gnwmtx                  US     1\n",
       "3  bjjt8pjhuk               other     1\n",
       "4  87mebub9p4                  US     1"
      ]
     },
     "execution_count": 23,
     "metadata": {},
     "output_type": "execute_result"
    }
   ],
   "source": [
    "shorten_users['count']=shorten_users['country_destination']\n",
    "shorten_users.loc[shorten_users['count'] != 'NDF','count'] = 1\n",
    "shorten_users.loc[shorten_users['count'] == 'NDF','count'] = 0\n",
    "\n",
    "shorten_users.head()"
   ]
  },
  {
   "cell_type": "markdown",
   "metadata": {},
   "source": [
    "Merge the info in sessions and training data"
   ]
  },
  {
   "cell_type": "code",
   "execution_count": 24,
   "metadata": {},
   "outputs": [
    {
     "data": {
      "text/html": [
       "<div>\n",
       "<style>\n",
       "    .dataframe thead tr:only-child th {\n",
       "        text-align: right;\n",
       "    }\n",
       "\n",
       "    .dataframe thead th {\n",
       "        text-align: left;\n",
       "    }\n",
       "\n",
       "    .dataframe tbody tr th {\n",
       "        vertical-align: top;\n",
       "    }\n",
       "</style>\n",
       "<table border=\"1\" class=\"dataframe\">\n",
       "  <thead>\n",
       "    <tr style=\"text-align: right;\">\n",
       "      <th></th>\n",
       "      <th>user_id</th>\n",
       "      <th>country_destination</th>\n",
       "      <th>count</th>\n",
       "      <th>action</th>\n",
       "      <th>action_type</th>\n",
       "      <th>action_detail</th>\n",
       "      <th>device_type</th>\n",
       "      <th>secs_elapsed</th>\n",
       "    </tr>\n",
       "  </thead>\n",
       "  <tbody>\n",
       "    <tr>\n",
       "      <th>0</th>\n",
       "      <td>d1mm9tcy42</td>\n",
       "      <td>other</td>\n",
       "      <td>1</td>\n",
       "      <td>lookup</td>\n",
       "      <td>NaN</td>\n",
       "      <td>NaN</td>\n",
       "      <td>Windows Desktop</td>\n",
       "      <td>319.0</td>\n",
       "    </tr>\n",
       "    <tr>\n",
       "      <th>1</th>\n",
       "      <td>d1mm9tcy42</td>\n",
       "      <td>other</td>\n",
       "      <td>1</td>\n",
       "      <td>search_results</td>\n",
       "      <td>click</td>\n",
       "      <td>view_search_results</td>\n",
       "      <td>Windows Desktop</td>\n",
       "      <td>67753.0</td>\n",
       "    </tr>\n",
       "    <tr>\n",
       "      <th>2</th>\n",
       "      <td>d1mm9tcy42</td>\n",
       "      <td>other</td>\n",
       "      <td>1</td>\n",
       "      <td>lookup</td>\n",
       "      <td>NaN</td>\n",
       "      <td>NaN</td>\n",
       "      <td>Windows Desktop</td>\n",
       "      <td>301.0</td>\n",
       "    </tr>\n",
       "    <tr>\n",
       "      <th>3</th>\n",
       "      <td>d1mm9tcy42</td>\n",
       "      <td>other</td>\n",
       "      <td>1</td>\n",
       "      <td>search_results</td>\n",
       "      <td>click</td>\n",
       "      <td>view_search_results</td>\n",
       "      <td>Windows Desktop</td>\n",
       "      <td>22141.0</td>\n",
       "    </tr>\n",
       "    <tr>\n",
       "      <th>4</th>\n",
       "      <td>d1mm9tcy42</td>\n",
       "      <td>other</td>\n",
       "      <td>1</td>\n",
       "      <td>lookup</td>\n",
       "      <td>NaN</td>\n",
       "      <td>NaN</td>\n",
       "      <td>Windows Desktop</td>\n",
       "      <td>435.0</td>\n",
       "    </tr>\n",
       "  </tbody>\n",
       "</table>\n",
       "</div>"
      ],
      "text/plain": [
       "      user_id country_destination count          action action_type  \\\n",
       "0  d1mm9tcy42               other     1          lookup         NaN   \n",
       "1  d1mm9tcy42               other     1  search_results       click   \n",
       "2  d1mm9tcy42               other     1          lookup         NaN   \n",
       "3  d1mm9tcy42               other     1  search_results       click   \n",
       "4  d1mm9tcy42               other     1          lookup         NaN   \n",
       "\n",
       "         action_detail      device_type  secs_elapsed  \n",
       "0                  NaN  Windows Desktop         319.0  \n",
       "1  view_search_results  Windows Desktop       67753.0  \n",
       "2                  NaN  Windows Desktop         301.0  \n",
       "3  view_search_results  Windows Desktop       22141.0  \n",
       "4                  NaN  Windows Desktop         435.0  "
      ]
     },
     "execution_count": 24,
     "metadata": {},
     "output_type": "execute_result"
    }
   ],
   "source": [
    "sessions = pd.merge(shorten_users,sessions,on='user_id',how='inner')\n",
    "sessions.head()"
   ]
  },
  {
   "cell_type": "markdown",
   "metadata": {},
   "source": [
    "Visualize the variaty of each keywords in the merged data"
   ]
  },
  {
   "cell_type": "code",
   "execution_count": 25,
   "metadata": {},
   "outputs": [
    {
     "data": {
      "text/plain": [
       "user_id                 73815\n",
       "country_destination        12\n",
       "count                       2\n",
       "action                    331\n",
       "action_type                 9\n",
       "action_detail             128\n",
       "device_type                14\n",
       "secs_elapsed           256593\n",
       "dtype: int64"
      ]
     },
     "execution_count": 25,
     "metadata": {},
     "output_type": "execute_result"
    }
   ],
   "source": [
    "sessions.apply(lambda x: x.nunique(),axis=0)"
   ]
  },
  {
   "cell_type": "markdown",
   "metadata": {},
   "source": [
    "## Time Interval Analysis (Time Interval is the time one user spends on Airbnb)"
   ]
  },
  {
   "cell_type": "markdown",
   "metadata": {},
   "source": [
    "Count the total time of each user"
   ]
  },
  {
   "cell_type": "code",
   "execution_count": 26,
   "metadata": {},
   "outputs": [
    {
     "data": {
      "text/html": [
       "<div>\n",
       "<style>\n",
       "    .dataframe thead tr:only-child th {\n",
       "        text-align: right;\n",
       "    }\n",
       "\n",
       "    .dataframe thead th {\n",
       "        text-align: left;\n",
       "    }\n",
       "\n",
       "    .dataframe tbody tr th {\n",
       "        vertical-align: top;\n",
       "    }\n",
       "</style>\n",
       "<table border=\"1\" class=\"dataframe\">\n",
       "  <thead>\n",
       "    <tr style=\"text-align: right;\">\n",
       "      <th></th>\n",
       "      <th>user_id</th>\n",
       "      <th>secs_elapsed</th>\n",
       "      <th>country_destination</th>\n",
       "      <th>count</th>\n",
       "    </tr>\n",
       "  </thead>\n",
       "  <tbody>\n",
       "    <tr>\n",
       "      <th>0</th>\n",
       "      <td>00023iyk9l</td>\n",
       "      <td>867896.0</td>\n",
       "      <td>US</td>\n",
       "      <td>1</td>\n",
       "    </tr>\n",
       "    <tr>\n",
       "      <th>1</th>\n",
       "      <td>001wyh0pz8</td>\n",
       "      <td>282965.0</td>\n",
       "      <td>NDF</td>\n",
       "      <td>0</td>\n",
       "    </tr>\n",
       "    <tr>\n",
       "      <th>2</th>\n",
       "      <td>0028jgx1x1</td>\n",
       "      <td>297010.0</td>\n",
       "      <td>NDF</td>\n",
       "      <td>0</td>\n",
       "    </tr>\n",
       "    <tr>\n",
       "      <th>3</th>\n",
       "      <td>002qnbzfs5</td>\n",
       "      <td>6487080.0</td>\n",
       "      <td>US</td>\n",
       "      <td>1</td>\n",
       "    </tr>\n",
       "    <tr>\n",
       "      <th>4</th>\n",
       "      <td>0035hobuyj</td>\n",
       "      <td>5724670.0</td>\n",
       "      <td>US</td>\n",
       "      <td>1</td>\n",
       "    </tr>\n",
       "  </tbody>\n",
       "</table>\n",
       "</div>"
      ],
      "text/plain": [
       "      user_id  secs_elapsed country_destination count\n",
       "0  00023iyk9l      867896.0                  US     1\n",
       "1  001wyh0pz8      282965.0                 NDF     0\n",
       "2  0028jgx1x1      297010.0                 NDF     0\n",
       "3  002qnbzfs5     6487080.0                  US     1\n",
       "4  0035hobuyj     5724670.0                  US     1"
      ]
     },
     "execution_count": 26,
     "metadata": {},
     "output_type": "execute_result"
    }
   ],
   "source": [
    "grpby = sessions.groupby(['user_id'])['secs_elapsed'].sum().reset_index()\n",
    "grpby.columns = ['user_id','secs_elapsed']\n",
    "grpby = pd.merge(grpby,shorten_users,on='user_id',how='inner')\n",
    "grpby.head()"
   ]
  },
  {
   "cell_type": "code",
   "execution_count": 27,
   "metadata": {},
   "outputs": [
    {
     "data": {
      "application/vnd.jupyter.widget-view+json": {
       "model_id": "a0972945f948411ebcf0d100f4c5dfb6",
       "version_major": 2,
       "version_minor": 0
      },
      "text/plain": [
       "A Jupyter Widget"
      ]
     },
     "metadata": {},
     "output_type": "display_data"
    },
    {
     "data": {
      "text/plain": [
       "<function __main__.timeIntervalVisual>"
      ]
     },
     "execution_count": 27,
     "metadata": {},
     "output_type": "execute_result"
    }
   ],
   "source": [
    "from ipywidgets import interact, interactive, fixed, interact_manual\n",
    "import ipywidgets as widgets\n",
    "\n",
    "def timeIntervalVisual(groupNum, typeCurr):\n",
    "    '''\n",
    "    This is the visualization function for time interval distribution\n",
    "    *param: groupNum is the number of groups you want to divided the time intervals into\n",
    "    '''\n",
    "    assert groupNum > 1\n",
    "    types = ['All', 'Book', 'NDF']\n",
    "    assert typeCurr in types\n",
    "    grpby['timeclass'] = pd.qcut(grpby['secs_elapsed'], groupNum)\n",
    "    time_raw = grpby\n",
    "    if typeCurr == types[1]:\n",
    "        time_raw = grpby[grpby['count'] == 1]\n",
    "    elif typeCurr == types[2]:\n",
    "        time_raw = grpby[grpby['count'] == 0]\n",
    "    times = time_raw[['timeclass', 'count']].groupby(['timeclass']).count().reset_index()\n",
    "    times.index = times['timeclass']\n",
    "    times.plot('timeclass', 'count', kind='pie', autopct='%1.1f%%', title = 'Time Interval(secs) Distribution', figsize = (10, 10))\n",
    "    plt.legend(loc='center left', bbox_to_anchor=(1.3, 0.5))\n",
    "    plt.axis('off')\n",
    "    plt.show()\n",
    "    \n",
    "interact(timeIntervalVisual, groupNum = widgets.IntSlider(min = 2, max = 10, step = 1, value = 5), \\\n",
    "        typeCurr = widgets.Dropdown(options = {'All', 'Book', 'NDF'}))"
   ]
  },
  {
   "cell_type": "markdown",
   "metadata": {},
   "source": [
    "Conclusion: We can see that the Booked users spent more time on the Airbnb"
   ]
  },
  {
   "cell_type": "markdown",
   "metadata": {},
   "source": [
    "# Action Type Analysis (Action Type is the action one user is recorded in his activity log)"
   ]
  },
  {
   "cell_type": "markdown",
   "metadata": {},
   "source": [
    "Firstly, see the distribution of user action type on action level"
   ]
  },
  {
   "cell_type": "code",
   "execution_count": 28,
   "metadata": {},
   "outputs": [
    {
     "data": {
      "text/plain": [
       "<matplotlib.axes._subplots.AxesSubplot at 0x1a12b06190>"
      ]
     },
     "execution_count": 28,
     "metadata": {},
     "output_type": "execute_result"
    },
    {
     "data": {
      "image/png": "[encoded data removed]",
      "text/plain": [
       "<matplotlib.figure.Figure at 0x10ea8ff90>"
      ]
     },
     "metadata": {},
     "output_type": "display_data"
    }
   ],
   "source": [
    "sessions.action_type.value_counts().plot(kind= 'bar', title = 'Action Type Distribution')"
   ]
  },
  {
   "cell_type": "markdown",
   "metadata": {},
   "source": [
    "Remove the unknown one"
   ]
  },
  {
   "cell_type": "code",
   "execution_count": 29,
   "metadata": {
    "collapsed": true
   },
   "outputs": [],
   "source": [
    "infos = []\n",
    "for key in sessions.action_type.unique()[1:]:\n",
    "    if key != np.nan and key != '-unknown-':\n",
    "        total = len(sessions[sessions.action_type == key])\n",
    "        if total != 0:\n",
    "            book = sessions[sessions.action_type == key]['count'].sum()\n",
    "            percent = 1.0 * book / total * 100\n",
    "            infos.append([key, book, total, percent])"
   ]
  },
  {
   "cell_type": "markdown",
   "metadata": {},
   "source": [
    "Percentage of each action_type regarding booking class and total numbers, action level statistics"
   ]
  },
  {
   "cell_type": "code",
   "execution_count": 30,
   "metadata": {},
   "outputs": [
    {
     "data": {
      "text/html": [
       "<div>\n",
       "<style>\n",
       "    .dataframe thead tr:only-child th {\n",
       "        text-align: right;\n",
       "    }\n",
       "\n",
       "    .dataframe thead th {\n",
       "        text-align: left;\n",
       "    }\n",
       "\n",
       "    .dataframe tbody tr th {\n",
       "        vertical-align: top;\n",
       "    }\n",
       "</style>\n",
       "<table border=\"1\" class=\"dataframe\">\n",
       "  <thead>\n",
       "    <tr style=\"text-align: right;\">\n",
       "      <th></th>\n",
       "      <th>action_type</th>\n",
       "      <th>book #</th>\n",
       "      <th>total #</th>\n",
       "      <th>booking percent</th>\n",
       "    </tr>\n",
       "  </thead>\n",
       "  <tbody>\n",
       "    <tr>\n",
       "      <th>5</th>\n",
       "      <td>booking_request</td>\n",
       "      <td>9081</td>\n",
       "      <td>10695</td>\n",
       "      <td>84.9088359046</td>\n",
       "    </tr>\n",
       "    <tr>\n",
       "      <th>4</th>\n",
       "      <td>message_post</td>\n",
       "      <td>32299</td>\n",
       "      <td>55567</td>\n",
       "      <td>58.1262259974</td>\n",
       "    </tr>\n",
       "    <tr>\n",
       "      <th>6</th>\n",
       "      <td>partner_callback</td>\n",
       "      <td>3798</td>\n",
       "      <td>7005</td>\n",
       "      <td>54.2184154176</td>\n",
       "    </tr>\n",
       "    <tr>\n",
       "      <th>7</th>\n",
       "      <td>booking_response</td>\n",
       "      <td>1</td>\n",
       "      <td>2</td>\n",
       "      <td>50.0</td>\n",
       "    </tr>\n",
       "    <tr>\n",
       "      <th>0</th>\n",
       "      <td>click</td>\n",
       "      <td>481757</td>\n",
       "      <td>1064436</td>\n",
       "      <td>45.2593674021</td>\n",
       "    </tr>\n",
       "    <tr>\n",
       "      <th>2</th>\n",
       "      <td>view</td>\n",
       "      <td>748404</td>\n",
       "      <td>1669723</td>\n",
       "      <td>44.8220453333</td>\n",
       "    </tr>\n",
       "    <tr>\n",
       "      <th>1</th>\n",
       "      <td>data</td>\n",
       "      <td>516182</td>\n",
       "      <td>1188495</td>\n",
       "      <td>43.4315668135</td>\n",
       "    </tr>\n",
       "    <tr>\n",
       "      <th>3</th>\n",
       "      <td>submit</td>\n",
       "      <td>138407</td>\n",
       "      <td>357371</td>\n",
       "      <td>38.7292197744</td>\n",
       "    </tr>\n",
       "  </tbody>\n",
       "</table>\n",
       "</div>"
      ],
      "text/plain": [
       "        action_type  book #  total # booking percent\n",
       "5   booking_request    9081    10695   84.9088359046\n",
       "4      message_post   32299    55567   58.1262259974\n",
       "6  partner_callback    3798     7005   54.2184154176\n",
       "7  booking_response       1        2            50.0\n",
       "0             click  481757  1064436   45.2593674021\n",
       "2              view  748404  1669723   44.8220453333\n",
       "1              data  516182  1188495   43.4315668135\n",
       "3            submit  138407   357371   38.7292197744"
      ]
     },
     "execution_count": 30,
     "metadata": {},
     "output_type": "execute_result"
    }
   ],
   "source": [
    "action_Summary = pd.DataFrame(np.array(infos), columns= ['action_type', 'book #', 'total #', 'booking percent'])\n",
    "action_Summary.sort_values('booking percent', ascending = 0)"
   ]
  },
  {
   "cell_type": "markdown",
   "metadata": {},
   "source": [
    "distribution of each action type on user level"
   ]
  },
  {
   "cell_type": "code",
   "execution_count": 31,
   "metadata": {},
   "outputs": [
    {
     "data": {
      "text/plain": [
       "<matplotlib.axes._subplots.AxesSubplot at 0x1a13147a10>"
      ]
     },
     "execution_count": 31,
     "metadata": {},
     "output_type": "execute_result"
    },
    {
     "data": {
      "image/png": "[encoded data removed]",
      "text/plain": [
       "<matplotlib.figure.Figure at 0x1a13c9cfd0>"
      ]
     },
     "metadata": {},
     "output_type": "display_data"
    }
   ],
   "source": [
    "sessions.groupby(['action_type'])['user_id'].nunique().reset_index().plot('action_type', 'user_id', kind = 'bar')"
   ]
  },
  {
   "cell_type": "code",
   "execution_count": 32,
   "metadata": {},
   "outputs": [
    {
     "data": {
      "text/html": [
       "<div>\n",
       "<style>\n",
       "    .dataframe thead tr:only-child th {\n",
       "        text-align: right;\n",
       "    }\n",
       "\n",
       "    .dataframe thead th {\n",
       "        text-align: left;\n",
       "    }\n",
       "\n",
       "    .dataframe tbody tr th {\n",
       "        vertical-align: top;\n",
       "    }\n",
       "</style>\n",
       "<table border=\"1\" class=\"dataframe\">\n",
       "  <thead>\n",
       "    <tr style=\"text-align: right;\">\n",
       "      <th></th>\n",
       "      <th>user_id</th>\n",
       "      <th>-unknown-</th>\n",
       "      <th>booking_request</th>\n",
       "      <th>booking_response</th>\n",
       "      <th>click</th>\n",
       "      <th>data</th>\n",
       "      <th>message_post</th>\n",
       "      <th>partner_callback</th>\n",
       "      <th>submit</th>\n",
       "      <th>view</th>\n",
       "      <th>country_destination</th>\n",
       "      <th>count</th>\n",
       "    </tr>\n",
       "  </thead>\n",
       "  <tbody>\n",
       "    <tr>\n",
       "      <th>0</th>\n",
       "      <td>00023iyk9l</td>\n",
       "      <td>0</td>\n",
       "      <td>1</td>\n",
       "      <td>0</td>\n",
       "      <td>4</td>\n",
       "      <td>9</td>\n",
       "      <td>1</td>\n",
       "      <td>1</td>\n",
       "      <td>0</td>\n",
       "      <td>21</td>\n",
       "      <td>US</td>\n",
       "      <td>1</td>\n",
       "    </tr>\n",
       "    <tr>\n",
       "      <th>1</th>\n",
       "      <td>001wyh0pz8</td>\n",
       "      <td>6</td>\n",
       "      <td>0</td>\n",
       "      <td>0</td>\n",
       "      <td>66</td>\n",
       "      <td>2</td>\n",
       "      <td>0</td>\n",
       "      <td>0</td>\n",
       "      <td>3</td>\n",
       "      <td>8</td>\n",
       "      <td>NDF</td>\n",
       "      <td>0</td>\n",
       "    </tr>\n",
       "    <tr>\n",
       "      <th>2</th>\n",
       "      <td>0028jgx1x1</td>\n",
       "      <td>1</td>\n",
       "      <td>0</td>\n",
       "      <td>0</td>\n",
       "      <td>9</td>\n",
       "      <td>5</td>\n",
       "      <td>0</td>\n",
       "      <td>0</td>\n",
       "      <td>1</td>\n",
       "      <td>15</td>\n",
       "      <td>NDF</td>\n",
       "      <td>0</td>\n",
       "    </tr>\n",
       "    <tr>\n",
       "      <th>3</th>\n",
       "      <td>002qnbzfs5</td>\n",
       "      <td>184</td>\n",
       "      <td>1</td>\n",
       "      <td>0</td>\n",
       "      <td>140</td>\n",
       "      <td>140</td>\n",
       "      <td>16</td>\n",
       "      <td>0</td>\n",
       "      <td>15</td>\n",
       "      <td>216</td>\n",
       "      <td>US</td>\n",
       "      <td>1</td>\n",
       "    </tr>\n",
       "    <tr>\n",
       "      <th>4</th>\n",
       "      <td>0035hobuyj</td>\n",
       "      <td>9</td>\n",
       "      <td>0</td>\n",
       "      <td>0</td>\n",
       "      <td>206</td>\n",
       "      <td>41</td>\n",
       "      <td>3</td>\n",
       "      <td>0</td>\n",
       "      <td>4</td>\n",
       "      <td>55</td>\n",
       "      <td>US</td>\n",
       "      <td>1</td>\n",
       "    </tr>\n",
       "  </tbody>\n",
       "</table>\n",
       "</div>"
      ],
      "text/plain": [
       "      user_id  -unknown-  booking_request  booking_response  click  data  \\\n",
       "0  00023iyk9l          0                1                 0      4     9   \n",
       "1  001wyh0pz8          6                0                 0     66     2   \n",
       "2  0028jgx1x1          1                0                 0      9     5   \n",
       "3  002qnbzfs5        184                1                 0    140   140   \n",
       "4  0035hobuyj          9                0                 0    206    41   \n",
       "\n",
       "   message_post  partner_callback  submit  view country_destination count  \n",
       "0             1                 1       0    21                  US     1  \n",
       "1             0                 0       3     8                 NDF     0  \n",
       "2             0                 0       1    15                 NDF     0  \n",
       "3            16                 0      15   216                  US     1  \n",
       "4             3                 0       4    55                  US     1  "
      ]
     },
     "execution_count": 32,
     "metadata": {},
     "output_type": "execute_result"
    }
   ],
   "source": [
    "action_type = pd.pivot_table(sessions, index = ['user_id'],columns = ['action_type'],\n",
    "                             values = 'action',aggfunc=len,fill_value=0).reset_index()\n",
    "action_type= pd.merge(action_type,shorten_users,on='user_id',how='inner')\n",
    "action_type.head()"
   ]
  },
  {
   "cell_type": "code",
   "execution_count": 33,
   "metadata": {},
   "outputs": [
    {
     "data": {
      "application/vnd.jupyter.widget-view+json": {
       "model_id": "7ce2c6ba1e364d04b6ffa02679b5d57f",
       "version_major": 2,
       "version_minor": 0
      },
      "text/plain": [
       "A Jupyter Widget"
      ]
     },
     "metadata": {},
     "output_type": "display_data"
    },
    {
     "data": {
      "text/plain": [
       "<function __main__.actionTypeVisual>"
      ]
     },
     "execution_count": 33,
     "metadata": {},
     "output_type": "execute_result"
    }
   ],
   "source": [
    "def actionTypeVisual(typeCurr):\n",
    "    '''\n",
    "    This function performs the visualization of the action type distribution\n",
    "    *param typeCurr: the group of data you want to show visualization with\n",
    "            \"All\" means all the data, \"Book\" means only the booked users and \"NDF\" means the not booked ones\n",
    "    '''\n",
    "    types = ['All', 'Book', 'NDF']\n",
    "    assert typeCurr in types\n",
    "    type_info = [['all', 0]]\n",
    "    action_raw = action_type\n",
    "    if typeCurr == types[1]:\n",
    "        action_raw = action_type[action_type['count'] == 1]\n",
    "    elif typeCurr == types[2]:\n",
    "        action_raw = action_type[action_type['count'] == 0]\n",
    "    for k in action_raw.columns[2:-2]:\n",
    "        count = action_raw[k].sum()\n",
    "        type_info.append([k, count])\n",
    "        type_info[0][1] += int(count)\n",
    "    type_info = pd.DataFrame(type_info, columns=['action_type', 'count'])\n",
    "    type_info.plot('action_type', 'count', kind='bar', title = typeCurr, color='#FD5C64', rot=90)\n",
    "interact(actionTypeVisual, typeCurr = widgets.Dropdown(options = {'All', 'Book', 'NDF'}))"
   ]
  },
  {
   "cell_type": "markdown",
   "metadata": {},
   "source": [
    "# Device Type Analysis (Device Type is the device that one user used to perform his action)"
   ]
  },
  {
   "cell_type": "code",
   "execution_count": 34,
   "metadata": {},
   "outputs": [
    {
     "data": {
      "text/html": [
       "<div>\n",
       "<style>\n",
       "    .dataframe thead tr:only-child th {\n",
       "        text-align: right;\n",
       "    }\n",
       "\n",
       "    .dataframe thead th {\n",
       "        text-align: left;\n",
       "    }\n",
       "\n",
       "    .dataframe tbody tr th {\n",
       "        vertical-align: top;\n",
       "    }\n",
       "</style>\n",
       "<table border=\"1\" class=\"dataframe\">\n",
       "  <thead>\n",
       "    <tr style=\"text-align: right;\">\n",
       "      <th></th>\n",
       "      <th>device_type</th>\n",
       "      <th>user_id</th>\n",
       "    </tr>\n",
       "  </thead>\n",
       "  <tbody>\n",
       "    <tr>\n",
       "      <th>0</th>\n",
       "      <td>-unknown-</td>\n",
       "      <td>13126</td>\n",
       "    </tr>\n",
       "    <tr>\n",
       "      <th>1</th>\n",
       "      <td>Android App Unknown Phone/Tablet</td>\n",
       "      <td>2757</td>\n",
       "    </tr>\n",
       "    <tr>\n",
       "      <th>2</th>\n",
       "      <td>Android Phone</td>\n",
       "      <td>3474</td>\n",
       "    </tr>\n",
       "    <tr>\n",
       "      <th>3</th>\n",
       "      <td>Blackberry</td>\n",
       "      <td>59</td>\n",
       "    </tr>\n",
       "    <tr>\n",
       "      <th>4</th>\n",
       "      <td>Chromebook</td>\n",
       "      <td>260</td>\n",
       "    </tr>\n",
       "    <tr>\n",
       "      <th>5</th>\n",
       "      <td>Linux Desktop</td>\n",
       "      <td>354</td>\n",
       "    </tr>\n",
       "    <tr>\n",
       "      <th>6</th>\n",
       "      <td>Mac Desktop</td>\n",
       "      <td>28893</td>\n",
       "    </tr>\n",
       "    <tr>\n",
       "      <th>7</th>\n",
       "      <td>Opera Phone</td>\n",
       "      <td>1</td>\n",
       "    </tr>\n",
       "    <tr>\n",
       "      <th>8</th>\n",
       "      <td>Tablet</td>\n",
       "      <td>848</td>\n",
       "    </tr>\n",
       "    <tr>\n",
       "      <th>9</th>\n",
       "      <td>Windows Desktop</td>\n",
       "      <td>24768</td>\n",
       "    </tr>\n",
       "    <tr>\n",
       "      <th>10</th>\n",
       "      <td>Windows Phone</td>\n",
       "      <td>50</td>\n",
       "    </tr>\n",
       "    <tr>\n",
       "      <th>11</th>\n",
       "      <td>iPad Tablet</td>\n",
       "      <td>6283</td>\n",
       "    </tr>\n",
       "    <tr>\n",
       "      <th>12</th>\n",
       "      <td>iPhone</td>\n",
       "      <td>16054</td>\n",
       "    </tr>\n",
       "    <tr>\n",
       "      <th>13</th>\n",
       "      <td>iPodtouch</td>\n",
       "      <td>41</td>\n",
       "    </tr>\n",
       "  </tbody>\n",
       "</table>\n",
       "</div>"
      ],
      "text/plain": [
       "                         device_type  user_id\n",
       "0                          -unknown-    13126\n",
       "1   Android App Unknown Phone/Tablet     2757\n",
       "2                      Android Phone     3474\n",
       "3                         Blackberry       59\n",
       "4                         Chromebook      260\n",
       "5                      Linux Desktop      354\n",
       "6                        Mac Desktop    28893\n",
       "7                        Opera Phone        1\n",
       "8                             Tablet      848\n",
       "9                    Windows Desktop    24768\n",
       "10                     Windows Phone       50\n",
       "11                       iPad Tablet     6283\n",
       "12                            iPhone    16054\n",
       "13                         iPodtouch       41"
      ]
     },
     "execution_count": 34,
     "metadata": {},
     "output_type": "execute_result"
    }
   ],
   "source": [
    "sessions.groupby(['device_type'])['user_id'].nunique().reset_index()"
   ]
  },
  {
   "cell_type": "markdown",
   "metadata": {},
   "source": [
    "people may have more than one devices"
   ]
  },
  {
   "cell_type": "code",
   "execution_count": 35,
   "metadata": {},
   "outputs": [
    {
     "data": {
      "text/html": [
       "<div>\n",
       "<style>\n",
       "    .dataframe thead tr:only-child th {\n",
       "        text-align: right;\n",
       "    }\n",
       "\n",
       "    .dataframe thead th {\n",
       "        text-align: left;\n",
       "    }\n",
       "\n",
       "    .dataframe tbody tr th {\n",
       "        vertical-align: top;\n",
       "    }\n",
       "</style>\n",
       "<table border=\"1\" class=\"dataframe\">\n",
       "  <thead>\n",
       "    <tr style=\"text-align: right;\">\n",
       "      <th></th>\n",
       "      <th>user_id</th>\n",
       "      <th>device_type</th>\n",
       "    </tr>\n",
       "  </thead>\n",
       "  <tbody>\n",
       "    <tr>\n",
       "      <th>0</th>\n",
       "      <td>00023iyk9l</td>\n",
       "      <td>2</td>\n",
       "    </tr>\n",
       "    <tr>\n",
       "      <th>1</th>\n",
       "      <td>001wyh0pz8</td>\n",
       "      <td>1</td>\n",
       "    </tr>\n",
       "    <tr>\n",
       "      <th>2</th>\n",
       "      <td>0028jgx1x1</td>\n",
       "      <td>2</td>\n",
       "    </tr>\n",
       "    <tr>\n",
       "      <th>3</th>\n",
       "      <td>002qnbzfs5</td>\n",
       "      <td>2</td>\n",
       "    </tr>\n",
       "    <tr>\n",
       "      <th>4</th>\n",
       "      <td>0035hobuyj</td>\n",
       "      <td>1</td>\n",
       "    </tr>\n",
       "  </tbody>\n",
       "</table>\n",
       "</div>"
      ],
      "text/plain": [
       "      user_id  device_type\n",
       "0  00023iyk9l            2\n",
       "1  001wyh0pz8            1\n",
       "2  0028jgx1x1            2\n",
       "3  002qnbzfs5            2\n",
       "4  0035hobuyj            1"
      ]
     },
     "execution_count": 35,
     "metadata": {},
     "output_type": "execute_result"
    }
   ],
   "source": [
    "sessions.groupby(['user_id'])['device_type'].nunique().reset_index().head() "
   ]
  },
  {
   "cell_type": "markdown",
   "metadata": {},
   "source": [
    "Device"
   ]
  },
  {
   "cell_type": "code",
   "execution_count": 36,
   "metadata": {},
   "outputs": [
    {
     "data": {
      "text/html": [
       "<div>\n",
       "<style>\n",
       "    .dataframe thead tr:only-child th {\n",
       "        text-align: right;\n",
       "    }\n",
       "\n",
       "    .dataframe thead th {\n",
       "        text-align: left;\n",
       "    }\n",
       "\n",
       "    .dataframe tbody tr th {\n",
       "        vertical-align: top;\n",
       "    }\n",
       "</style>\n",
       "<table border=\"1\" class=\"dataframe\">\n",
       "  <thead>\n",
       "    <tr style=\"text-align: right;\">\n",
       "      <th></th>\n",
       "      <th>user_id</th>\n",
       "      <th>-unknown-</th>\n",
       "      <th>Android App Unknown Phone/Tablet</th>\n",
       "      <th>Android Phone</th>\n",
       "      <th>Blackberry</th>\n",
       "      <th>Chromebook</th>\n",
       "      <th>Linux Desktop</th>\n",
       "      <th>Mac Desktop</th>\n",
       "      <th>Opera Phone</th>\n",
       "      <th>Tablet</th>\n",
       "      <th>Windows Desktop</th>\n",
       "      <th>Windows Phone</th>\n",
       "      <th>iPad Tablet</th>\n",
       "      <th>iPhone</th>\n",
       "      <th>iPodtouch</th>\n",
       "      <th>country_destination</th>\n",
       "      <th>count</th>\n",
       "    </tr>\n",
       "  </thead>\n",
       "  <tbody>\n",
       "    <tr>\n",
       "      <th>0</th>\n",
       "      <td>00023iyk9l</td>\n",
       "      <td>0</td>\n",
       "      <td>0</td>\n",
       "      <td>0</td>\n",
       "      <td>0</td>\n",
       "      <td>0</td>\n",
       "      <td>0</td>\n",
       "      <td>36</td>\n",
       "      <td>0</td>\n",
       "      <td>0</td>\n",
       "      <td>0</td>\n",
       "      <td>0</td>\n",
       "      <td>0</td>\n",
       "      <td>4</td>\n",
       "      <td>0</td>\n",
       "      <td>US</td>\n",
       "      <td>1</td>\n",
       "    </tr>\n",
       "    <tr>\n",
       "      <th>1</th>\n",
       "      <td>001wyh0pz8</td>\n",
       "      <td>0</td>\n",
       "      <td>90</td>\n",
       "      <td>0</td>\n",
       "      <td>0</td>\n",
       "      <td>0</td>\n",
       "      <td>0</td>\n",
       "      <td>0</td>\n",
       "      <td>0</td>\n",
       "      <td>0</td>\n",
       "      <td>0</td>\n",
       "      <td>0</td>\n",
       "      <td>0</td>\n",
       "      <td>0</td>\n",
       "      <td>0</td>\n",
       "      <td>NDF</td>\n",
       "      <td>0</td>\n",
       "    </tr>\n",
       "    <tr>\n",
       "      <th>2</th>\n",
       "      <td>0028jgx1x1</td>\n",
       "      <td>30</td>\n",
       "      <td>0</td>\n",
       "      <td>1</td>\n",
       "      <td>0</td>\n",
       "      <td>0</td>\n",
       "      <td>0</td>\n",
       "      <td>0</td>\n",
       "      <td>0</td>\n",
       "      <td>0</td>\n",
       "      <td>0</td>\n",
       "      <td>0</td>\n",
       "      <td>0</td>\n",
       "      <td>0</td>\n",
       "      <td>0</td>\n",
       "      <td>NDF</td>\n",
       "      <td>0</td>\n",
       "    </tr>\n",
       "    <tr>\n",
       "      <th>3</th>\n",
       "      <td>002qnbzfs5</td>\n",
       "      <td>14</td>\n",
       "      <td>0</td>\n",
       "      <td>0</td>\n",
       "      <td>0</td>\n",
       "      <td>0</td>\n",
       "      <td>0</td>\n",
       "      <td>0</td>\n",
       "      <td>0</td>\n",
       "      <td>0</td>\n",
       "      <td>0</td>\n",
       "      <td>0</td>\n",
       "      <td>0</td>\n",
       "      <td>775</td>\n",
       "      <td>0</td>\n",
       "      <td>US</td>\n",
       "      <td>1</td>\n",
       "    </tr>\n",
       "    <tr>\n",
       "      <th>4</th>\n",
       "      <td>0035hobuyj</td>\n",
       "      <td>0</td>\n",
       "      <td>0</td>\n",
       "      <td>0</td>\n",
       "      <td>0</td>\n",
       "      <td>0</td>\n",
       "      <td>0</td>\n",
       "      <td>489</td>\n",
       "      <td>0</td>\n",
       "      <td>0</td>\n",
       "      <td>0</td>\n",
       "      <td>0</td>\n",
       "      <td>0</td>\n",
       "      <td>0</td>\n",
       "      <td>0</td>\n",
       "      <td>US</td>\n",
       "      <td>1</td>\n",
       "    </tr>\n",
       "  </tbody>\n",
       "</table>\n",
       "</div>"
      ],
      "text/plain": [
       "      user_id  -unknown-  Android App Unknown Phone/Tablet  Android Phone  \\\n",
       "0  00023iyk9l          0                                 0              0   \n",
       "1  001wyh0pz8          0                                90              0   \n",
       "2  0028jgx1x1         30                                 0              1   \n",
       "3  002qnbzfs5         14                                 0              0   \n",
       "4  0035hobuyj          0                                 0              0   \n",
       "\n",
       "   Blackberry  Chromebook  Linux Desktop  Mac Desktop  Opera Phone  Tablet  \\\n",
       "0           0           0              0           36            0       0   \n",
       "1           0           0              0            0            0       0   \n",
       "2           0           0              0            0            0       0   \n",
       "3           0           0              0            0            0       0   \n",
       "4           0           0              0          489            0       0   \n",
       "\n",
       "   Windows Desktop  Windows Phone  iPad Tablet  iPhone  iPodtouch  \\\n",
       "0                0              0            0       4          0   \n",
       "1                0              0            0       0          0   \n",
       "2                0              0            0       0          0   \n",
       "3                0              0            0     775          0   \n",
       "4                0              0            0       0          0   \n",
       "\n",
       "  country_destination count  \n",
       "0                  US     1  \n",
       "1                 NDF     0  \n",
       "2                 NDF     0  \n",
       "3                  US     1  \n",
       "4                  US     1  "
      ]
     },
     "execution_count": 36,
     "metadata": {},
     "output_type": "execute_result"
    }
   ],
   "source": [
    "device_type = pd.pivot_table(sessions, index = ['user_id'],columns = ['device_type'],values = 'action',\n",
    "                             aggfunc=len,fill_value=0).reset_index()\n",
    "device_type= pd.merge(device_type,shorten_users,on='user_id',how='inner')\n",
    "device_type.head()"
   ]
  },
  {
   "cell_type": "code",
   "execution_count": 37,
   "metadata": {},
   "outputs": [
    {
     "data": {
      "application/vnd.jupyter.widget-view+json": {
       "model_id": "2ea67e009e5d4389a74fc449a56e5f29",
       "version_major": 2,
       "version_minor": 0
      },
      "text/plain": [
       "A Jupyter Widget"
      ]
     },
     "metadata": {},
     "output_type": "display_data"
    },
    {
     "data": {
      "text/plain": [
       "<function __main__.deviceTypeVisual>"
      ]
     },
     "execution_count": 37,
     "metadata": {},
     "output_type": "execute_result"
    }
   ],
   "source": [
    "def deviceTypeVisual(typeCurr):\n",
    "    '''\n",
    "    This function performs the visualization of the device type distribution\n",
    "    *param typeCurr: the group of data you want to show visualization with\n",
    "            \"All\" means all the data, \"Book\" means only the booked users and \"NDF\" means the not booked ones\n",
    "    '''\n",
    "    types = ['All', 'Book', 'NDF']\n",
    "    assert typeCurr in types\n",
    "    type_info = [['all', 0]]\n",
    "    device_raw = device_type\n",
    "    if typeCurr == types[1]:\n",
    "        device_raw = device_type[device_type['count'] == 1]\n",
    "    elif typeCurr == types[2]:\n",
    "        device_raw = device_type[device_type['count'] == 0]\n",
    "    for k in device_raw.columns[2:-2]:\n",
    "        count = device_raw[k].sum()\n",
    "        type_info.append([k, count])\n",
    "        type_info[0][1] += int(count)\n",
    "    type_info = pd.DataFrame(type_info, columns=['device_type', 'count'])\n",
    "    type_info.plot('device_type', 'count', kind='bar', title = typeCurr, color='#FD5C64', rot=90)\n",
    "interact(deviceTypeVisual, typeCurr = widgets.Dropdown(options = {'All', 'Book', 'NDF'}))"
   ]
  },
  {
   "cell_type": "markdown",
   "metadata": {},
   "source": [
    "## Combine action type and time "
   ]
  },
  {
   "cell_type": "code",
   "execution_count": 38,
   "metadata": {},
   "outputs": [
    {
     "data": {
      "application/vnd.jupyter.widget-view+json": {
       "model_id": "f367f9d5763d4b6b92889ddd6f3843ff",
       "version_major": 2,
       "version_minor": 0
      },
      "text/plain": [
       "A Jupyter Widget"
      ]
     },
     "metadata": {},
     "output_type": "display_data"
    },
    {
     "data": {
      "text/plain": [
       "<function __main__.actionTypeTime>"
      ]
     },
     "execution_count": 38,
     "metadata": {},
     "output_type": "execute_result"
    }
   ],
   "source": [
    "def actionTypeTime(typeCurr):\n",
    "    '''\n",
    "    This function performs the visualization of the total time elapsed within each device type\n",
    "    *param typeCurr: the group of data you want to show visualization with\n",
    "            \"All\" means all the data, \"Book\" means only the booked users and \"NDF\" means the not booked ones\n",
    "    '''\n",
    "    types = ['All', 'Book', 'NDF']\n",
    "    assert typeCurr in types\n",
    "    action_time = sessions\n",
    "    if typeCurr == types[1]:\n",
    "        action_time = sessions[sessions['count'] == 1]\n",
    "    elif typeCurr == types[2]:\n",
    "        action_time = sessions[sessions['count'] == 0]\n",
    "    \n",
    "    action_time.groupby(['action_type']\n",
    "                     )['secs_elapsed'].sum().reset_index().plot('action_type', 'secs_elapsed',kind = 'bar',rot = 90)\n",
    "interact(actionTypeTime, typeCurr = widgets.Dropdown(options = {'All', 'Book', 'NDF'}))"
   ]
  },
  {
   "cell_type": "markdown",
   "metadata": {},
   "source": [
    "## combine everything"
   ]
  },
  {
   "cell_type": "code",
   "execution_count": 39,
   "metadata": {},
   "outputs": [
    {
     "data": {
      "text/html": [
       "<div>\n",
       "<style>\n",
       "    .dataframe thead tr:only-child th {\n",
       "        text-align: right;\n",
       "    }\n",
       "\n",
       "    .dataframe thead th {\n",
       "        text-align: left;\n",
       "    }\n",
       "\n",
       "    .dataframe tbody tr th {\n",
       "        vertical-align: top;\n",
       "    }\n",
       "</style>\n",
       "<table border=\"1\" class=\"dataframe\">\n",
       "  <thead>\n",
       "    <tr style=\"text-align: right;\">\n",
       "      <th></th>\n",
       "      <th>0</th>\n",
       "      <th>1</th>\n",
       "      <th>2</th>\n",
       "      <th>3</th>\n",
       "      <th>4</th>\n",
       "    </tr>\n",
       "  </thead>\n",
       "  <tbody>\n",
       "    <tr>\n",
       "      <th>user_id</th>\n",
       "      <td>00023iyk9l</td>\n",
       "      <td>001wyh0pz8</td>\n",
       "      <td>0028jgx1x1</td>\n",
       "      <td>002qnbzfs5</td>\n",
       "      <td>0035hobuyj</td>\n",
       "    </tr>\n",
       "    <tr>\n",
       "      <th>-unknown-_x</th>\n",
       "      <td>0</td>\n",
       "      <td>6</td>\n",
       "      <td>1</td>\n",
       "      <td>184</td>\n",
       "      <td>9</td>\n",
       "    </tr>\n",
       "    <tr>\n",
       "      <th>booking_request</th>\n",
       "      <td>1</td>\n",
       "      <td>0</td>\n",
       "      <td>0</td>\n",
       "      <td>1</td>\n",
       "      <td>0</td>\n",
       "    </tr>\n",
       "    <tr>\n",
       "      <th>booking_response</th>\n",
       "      <td>0</td>\n",
       "      <td>0</td>\n",
       "      <td>0</td>\n",
       "      <td>0</td>\n",
       "      <td>0</td>\n",
       "    </tr>\n",
       "    <tr>\n",
       "      <th>click</th>\n",
       "      <td>4</td>\n",
       "      <td>66</td>\n",
       "      <td>9</td>\n",
       "      <td>140</td>\n",
       "      <td>206</td>\n",
       "    </tr>\n",
       "    <tr>\n",
       "      <th>data</th>\n",
       "      <td>9</td>\n",
       "      <td>2</td>\n",
       "      <td>5</td>\n",
       "      <td>140</td>\n",
       "      <td>41</td>\n",
       "    </tr>\n",
       "    <tr>\n",
       "      <th>message_post</th>\n",
       "      <td>1</td>\n",
       "      <td>0</td>\n",
       "      <td>0</td>\n",
       "      <td>16</td>\n",
       "      <td>3</td>\n",
       "    </tr>\n",
       "    <tr>\n",
       "      <th>partner_callback</th>\n",
       "      <td>1</td>\n",
       "      <td>0</td>\n",
       "      <td>0</td>\n",
       "      <td>0</td>\n",
       "      <td>0</td>\n",
       "    </tr>\n",
       "    <tr>\n",
       "      <th>submit</th>\n",
       "      <td>0</td>\n",
       "      <td>3</td>\n",
       "      <td>1</td>\n",
       "      <td>15</td>\n",
       "      <td>4</td>\n",
       "    </tr>\n",
       "    <tr>\n",
       "      <th>view</th>\n",
       "      <td>21</td>\n",
       "      <td>8</td>\n",
       "      <td>15</td>\n",
       "      <td>216</td>\n",
       "      <td>55</td>\n",
       "    </tr>\n",
       "    <tr>\n",
       "      <th>country_destination_x</th>\n",
       "      <td>US</td>\n",
       "      <td>NDF</td>\n",
       "      <td>NDF</td>\n",
       "      <td>US</td>\n",
       "      <td>US</td>\n",
       "    </tr>\n",
       "    <tr>\n",
       "      <th>count_x</th>\n",
       "      <td>1</td>\n",
       "      <td>0</td>\n",
       "      <td>0</td>\n",
       "      <td>1</td>\n",
       "      <td>1</td>\n",
       "    </tr>\n",
       "    <tr>\n",
       "      <th>-unknown-_y</th>\n",
       "      <td>0</td>\n",
       "      <td>0</td>\n",
       "      <td>30</td>\n",
       "      <td>14</td>\n",
       "      <td>0</td>\n",
       "    </tr>\n",
       "    <tr>\n",
       "      <th>Android App Unknown Phone/Tablet</th>\n",
       "      <td>0</td>\n",
       "      <td>90</td>\n",
       "      <td>0</td>\n",
       "      <td>0</td>\n",
       "      <td>0</td>\n",
       "    </tr>\n",
       "    <tr>\n",
       "      <th>Android Phone</th>\n",
       "      <td>0</td>\n",
       "      <td>0</td>\n",
       "      <td>1</td>\n",
       "      <td>0</td>\n",
       "      <td>0</td>\n",
       "    </tr>\n",
       "    <tr>\n",
       "      <th>Blackberry</th>\n",
       "      <td>0</td>\n",
       "      <td>0</td>\n",
       "      <td>0</td>\n",
       "      <td>0</td>\n",
       "      <td>0</td>\n",
       "    </tr>\n",
       "    <tr>\n",
       "      <th>Chromebook</th>\n",
       "      <td>0</td>\n",
       "      <td>0</td>\n",
       "      <td>0</td>\n",
       "      <td>0</td>\n",
       "      <td>0</td>\n",
       "    </tr>\n",
       "    <tr>\n",
       "      <th>Linux Desktop</th>\n",
       "      <td>0</td>\n",
       "      <td>0</td>\n",
       "      <td>0</td>\n",
       "      <td>0</td>\n",
       "      <td>0</td>\n",
       "    </tr>\n",
       "    <tr>\n",
       "      <th>Mac Desktop</th>\n",
       "      <td>36</td>\n",
       "      <td>0</td>\n",
       "      <td>0</td>\n",
       "      <td>0</td>\n",
       "      <td>489</td>\n",
       "    </tr>\n",
       "    <tr>\n",
       "      <th>Opera Phone</th>\n",
       "      <td>0</td>\n",
       "      <td>0</td>\n",
       "      <td>0</td>\n",
       "      <td>0</td>\n",
       "      <td>0</td>\n",
       "    </tr>\n",
       "    <tr>\n",
       "      <th>Tablet</th>\n",
       "      <td>0</td>\n",
       "      <td>0</td>\n",
       "      <td>0</td>\n",
       "      <td>0</td>\n",
       "      <td>0</td>\n",
       "    </tr>\n",
       "    <tr>\n",
       "      <th>Windows Desktop</th>\n",
       "      <td>0</td>\n",
       "      <td>0</td>\n",
       "      <td>0</td>\n",
       "      <td>0</td>\n",
       "      <td>0</td>\n",
       "    </tr>\n",
       "    <tr>\n",
       "      <th>Windows Phone</th>\n",
       "      <td>0</td>\n",
       "      <td>0</td>\n",
       "      <td>0</td>\n",
       "      <td>0</td>\n",
       "      <td>0</td>\n",
       "    </tr>\n",
       "    <tr>\n",
       "      <th>iPad Tablet</th>\n",
       "      <td>0</td>\n",
       "      <td>0</td>\n",
       "      <td>0</td>\n",
       "      <td>0</td>\n",
       "      <td>0</td>\n",
       "    </tr>\n",
       "    <tr>\n",
       "      <th>iPhone</th>\n",
       "      <td>4</td>\n",
       "      <td>0</td>\n",
       "      <td>0</td>\n",
       "      <td>775</td>\n",
       "      <td>0</td>\n",
       "    </tr>\n",
       "    <tr>\n",
       "      <th>iPodtouch</th>\n",
       "      <td>0</td>\n",
       "      <td>0</td>\n",
       "      <td>0</td>\n",
       "      <td>0</td>\n",
       "      <td>0</td>\n",
       "    </tr>\n",
       "    <tr>\n",
       "      <th>country_destination_y</th>\n",
       "      <td>US</td>\n",
       "      <td>NDF</td>\n",
       "      <td>NDF</td>\n",
       "      <td>US</td>\n",
       "      <td>US</td>\n",
       "    </tr>\n",
       "    <tr>\n",
       "      <th>count_y</th>\n",
       "      <td>1</td>\n",
       "      <td>0</td>\n",
       "      <td>0</td>\n",
       "      <td>1</td>\n",
       "      <td>1</td>\n",
       "    </tr>\n",
       "    <tr>\n",
       "      <th>secs_elapsed</th>\n",
       "      <td>867896</td>\n",
       "      <td>282965</td>\n",
       "      <td>297010</td>\n",
       "      <td>6.48708e+06</td>\n",
       "      <td>5.72467e+06</td>\n",
       "    </tr>\n",
       "    <tr>\n",
       "      <th>country_destination</th>\n",
       "      <td>US</td>\n",
       "      <td>NDF</td>\n",
       "      <td>NDF</td>\n",
       "      <td>US</td>\n",
       "      <td>US</td>\n",
       "    </tr>\n",
       "    <tr>\n",
       "      <th>count</th>\n",
       "      <td>1</td>\n",
       "      <td>0</td>\n",
       "      <td>0</td>\n",
       "      <td>1</td>\n",
       "      <td>1</td>\n",
       "    </tr>\n",
       "    <tr>\n",
       "      <th>timeclass</th>\n",
       "      <td>(608254.0, 1277171.0]</td>\n",
       "      <td>(191518.0, 608254.0]</td>\n",
       "      <td>(191518.0, 608254.0]</td>\n",
       "      <td>(2474073.0, 38221363.0]</td>\n",
       "      <td>(2474073.0, 38221363.0]</td>\n",
       "    </tr>\n",
       "  </tbody>\n",
       "</table>\n",
       "</div>"
      ],
      "text/plain": [
       "                                                      0                     1  \\\n",
       "user_id                                      00023iyk9l            001wyh0pz8   \n",
       "-unknown-_x                                           0                     6   \n",
       "booking_request                                       1                     0   \n",
       "booking_response                                      0                     0   \n",
       "click                                                 4                    66   \n",
       "data                                                  9                     2   \n",
       "message_post                                          1                     0   \n",
       "partner_callback                                      1                     0   \n",
       "submit                                                0                     3   \n",
       "view                                                 21                     8   \n",
       "country_destination_x                                US                   NDF   \n",
       "count_x                                               1                     0   \n",
       "-unknown-_y                                           0                     0   \n",
       "Android App Unknown Phone/Tablet                      0                    90   \n",
       "Android Phone                                         0                     0   \n",
       "Blackberry                                            0                     0   \n",
       "Chromebook                                            0                     0   \n",
       "Linux Desktop                                         0                     0   \n",
       "Mac Desktop                                          36                     0   \n",
       "Opera Phone                                           0                     0   \n",
       "Tablet                                                0                     0   \n",
       "Windows Desktop                                       0                     0   \n",
       "Windows Phone                                         0                     0   \n",
       "iPad Tablet                                           0                     0   \n",
       "iPhone                                                4                     0   \n",
       "iPodtouch                                             0                     0   \n",
       "country_destination_y                                US                   NDF   \n",
       "count_y                                               1                     0   \n",
       "secs_elapsed                                     867896                282965   \n",
       "country_destination                                  US                   NDF   \n",
       "count                                                 1                     0   \n",
       "timeclass                         (608254.0, 1277171.0]  (191518.0, 608254.0]   \n",
       "\n",
       "                                                     2  \\\n",
       "user_id                                     0028jgx1x1   \n",
       "-unknown-_x                                          1   \n",
       "booking_request                                      0   \n",
       "booking_response                                     0   \n",
       "click                                                9   \n",
       "data                                                 5   \n",
       "message_post                                         0   \n",
       "partner_callback                                     0   \n",
       "submit                                               1   \n",
       "view                                                15   \n",
       "country_destination_x                              NDF   \n",
       "count_x                                              0   \n",
       "-unknown-_y                                         30   \n",
       "Android App Unknown Phone/Tablet                     0   \n",
       "Android Phone                                        1   \n",
       "Blackberry                                           0   \n",
       "Chromebook                                           0   \n",
       "Linux Desktop                                        0   \n",
       "Mac Desktop                                          0   \n",
       "Opera Phone                                          0   \n",
       "Tablet                                               0   \n",
       "Windows Desktop                                      0   \n",
       "Windows Phone                                        0   \n",
       "iPad Tablet                                          0   \n",
       "iPhone                                               0   \n",
       "iPodtouch                                            0   \n",
       "country_destination_y                              NDF   \n",
       "count_y                                              0   \n",
       "secs_elapsed                                    297010   \n",
       "country_destination                                NDF   \n",
       "count                                                0   \n",
       "timeclass                         (191518.0, 608254.0]   \n",
       "\n",
       "                                                        3  \\\n",
       "user_id                                        002qnbzfs5   \n",
       "-unknown-_x                                           184   \n",
       "booking_request                                         1   \n",
       "booking_response                                        0   \n",
       "click                                                 140   \n",
       "data                                                  140   \n",
       "message_post                                           16   \n",
       "partner_callback                                        0   \n",
       "submit                                                 15   \n",
       "view                                                  216   \n",
       "country_destination_x                                  US   \n",
       "count_x                                                 1   \n",
       "-unknown-_y                                            14   \n",
       "Android App Unknown Phone/Tablet                        0   \n",
       "Android Phone                                           0   \n",
       "Blackberry                                              0   \n",
       "Chromebook                                              0   \n",
       "Linux Desktop                                           0   \n",
       "Mac Desktop                                             0   \n",
       "Opera Phone                                             0   \n",
       "Tablet                                                  0   \n",
       "Windows Desktop                                         0   \n",
       "Windows Phone                                           0   \n",
       "iPad Tablet                                             0   \n",
       "iPhone                                                775   \n",
       "iPodtouch                                               0   \n",
       "country_destination_y                                  US   \n",
       "count_y                                                 1   \n",
       "secs_elapsed                                  6.48708e+06   \n",
       "country_destination                                    US   \n",
       "count                                                   1   \n",
       "timeclass                         (2474073.0, 38221363.0]   \n",
       "\n",
       "                                                        4  \n",
       "user_id                                        0035hobuyj  \n",
       "-unknown-_x                                             9  \n",
       "booking_request                                         0  \n",
       "booking_response                                        0  \n",
       "click                                                 206  \n",
       "data                                                   41  \n",
       "message_post                                            3  \n",
       "partner_callback                                        0  \n",
       "submit                                                  4  \n",
       "view                                                   55  \n",
       "country_destination_x                                  US  \n",
       "count_x                                                 1  \n",
       "-unknown-_y                                             0  \n",
       "Android App Unknown Phone/Tablet                        0  \n",
       "Android Phone                                           0  \n",
       "Blackberry                                              0  \n",
       "Chromebook                                              0  \n",
       "Linux Desktop                                           0  \n",
       "Mac Desktop                                           489  \n",
       "Opera Phone                                             0  \n",
       "Tablet                                                  0  \n",
       "Windows Desktop                                         0  \n",
       "Windows Phone                                           0  \n",
       "iPad Tablet                                             0  \n",
       "iPhone                                                  0  \n",
       "iPodtouch                                               0  \n",
       "country_destination_y                                  US  \n",
       "count_y                                                 1  \n",
       "secs_elapsed                                  5.72467e+06  \n",
       "country_destination                                    US  \n",
       "count                                                   1  \n",
       "timeclass                         (2474073.0, 38221363.0]  "
      ]
     },
     "execution_count": 39,
     "metadata": {},
     "output_type": "execute_result"
    }
   ],
   "source": [
    "sessions_data = pd.merge(action_type,device_type,on='user_id',how='inner')\n",
    "sessions_data = pd.merge(sessions_data,grpby,on='user_id',how='inner')\n",
    "sessions_data.head().T"
   ]
  },
  {
   "cell_type": "markdown",
   "metadata": {},
   "source": [
    "NDF with less time spent"
   ]
  },
  {
   "cell_type": "code",
   "execution_count": 40,
   "metadata": {},
   "outputs": [
    {
     "data": {
      "text/plain": [
       "<matplotlib.axes._subplots.AxesSubplot at 0x1a12885310>"
      ]
     },
     "execution_count": 40,
     "metadata": {},
     "output_type": "execute_result"
    },
    {
     "data": {
      "image/png": "[encoded data removed]",
      "text/plain": [
       "<matplotlib.figure.Figure at 0x1a1e670690>"
      ]
     },
     "metadata": {},
     "output_type": "display_data"
    }
   ],
   "source": [
    "sessions_data.groupby(['country_destination']  \\\n",
    "                     )['secs_elapsed'].mean().reset_index().plot('country_destination', \\\n",
    "                                        'secs_elapsed',kind = 'bar', rot = 90, legend = False, \\\n",
    "                                         title = \"Time Elapsed(secs) Distribution by Destionation\")"
   ]
  },
  {
   "cell_type": "markdown",
   "metadata": {},
   "source": [
    "if partner_callback exist, the destination is highly likely to be an English spoken country as most of the users are from US, it is easier to communicate with call (US, CA, GB)"
   ]
  },
  {
   "cell_type": "code",
   "execution_count": 41,
   "metadata": {},
   "outputs": [
    {
     "data": {
      "text/plain": [
       "<matplotlib.axes._subplots.AxesSubplot at 0x1a1383a910>"
      ]
     },
     "execution_count": 41,
     "metadata": {},
     "output_type": "execute_result"
    },
    {
     "data": {
      "image/png": "[encoded data removed]",
      "text/plain": [
       "<matplotlib.figure.Figure at 0x1a2182e310>"
      ]
     },
     "metadata": {},
     "output_type": "display_data"
    }
   ],
   "source": [
    "sessions_data.groupby(['country_destination']\n",
    "                     )['partner_callback'].mean().reset_index().plot('country_destination', \\\n",
    "                    'partner_callback',kind = 'bar', title = 'Avearge Callback Distribution by Destination' ,rot = 90)"
   ]
  },
  {
   "cell_type": "markdown",
   "metadata": {},
   "source": [
    "NDF with less message post"
   ]
  },
  {
   "cell_type": "code",
   "execution_count": 42,
   "metadata": {},
   "outputs": [
    {
     "data": {
      "text/plain": [
       "<matplotlib.axes._subplots.AxesSubplot at 0x1a12e41cd0>"
      ]
     },
     "execution_count": 42,
     "metadata": {},
     "output_type": "execute_result"
    },
    {
     "data": {
      "image/png": "[encoded data removed]",
      "text/plain": [
       "<matplotlib.figure.Figure at 0x1a1f8d0d50>"
      ]
     },
     "metadata": {},
     "output_type": "display_data"
    }
   ],
   "source": [
    "sessions_data.groupby(['country_destination']\n",
    "                     )['message_post'].mean().reset_index().plot('country_destination', \\\n",
    "                    'message_post',kind = 'bar',title = 'Average Message Post Distrbution by Destionation' ,rot = 90)"
   ]
  },
  {
   "cell_type": "code",
   "execution_count": 43,
   "metadata": {},
   "outputs": [
    {
     "data": {
      "application/vnd.jupyter.widget-view+json": {
       "model_id": "e52844d4c27e4791861124c6a07b5501",
       "version_major": 2,
       "version_minor": 0
      },
      "text/plain": [
       "A Jupyter Widget"
      ]
     },
     "metadata": {},
     "output_type": "display_data"
    },
    {
     "data": {
      "text/plain": [
       "<function __main__.actionTypeCounterVisual>"
      ]
     },
     "execution_count": 43,
     "metadata": {},
     "output_type": "execute_result"
    }
   ],
   "source": [
    "from matplotlib.colors import Colormap\n",
    "bar_order_origin = ['NDF','US','other','FR','IT','GB','ES','CA','DE','NL','AU','PT']\n",
    "cat_vars = ['partner_callback', 'message_post', 'data', 'view','booking_request','booking_response','submit', 'click']\n",
    "\n",
    "def actionTypeCounterVisual(NDF, US, other, FR, IT, GB, ES, CA, DE, NL, AU, PT):\n",
    "    '''\n",
    "    This function shows the distribution of the destionation countries regarding to \n",
    "                                        the action frequency of each action type.\n",
    "    *param NDF, US, other, FR, IT, GB, ES, CA, DE, NL, AU, PT decides whether this country \n",
    "                                        will be taken into consideration\n",
    "    '''\n",
    "    selections = [NDF, US, other, FR, IT, GB, ES, CA, DE, NL, AU, PT]\n",
    "    fig, ax5 = plt.subplots(nrows=4, ncols=2, figsize=(16, 16))\n",
    "    raw_Data = sessions_data\n",
    "    bar_order = ['NDF','US','other','FR','IT','GB','ES','CA','DE','NL','AU','PT']\n",
    "    for i in range(len(selections)):\n",
    "        if selections[i] == False:\n",
    "            raw_Data = raw_Data[raw_Data.country_destination != bar_order[i]]\n",
    "            bar_order[i] = None\n",
    "    \n",
    "    bar_order = list(filter(None, bar_order))\n",
    "    for i,var in enumerate(cat_vars):\n",
    "        pltCatVar(raw_Data, bar_order, var, ax5,i)\n",
    "    plt.tight_layout()\n",
    "    #ax5[0].set_position([box.x0, box.y0 + box.height * 0.4, box.width, box.height * 0.6])\n",
    "    ax5[3][1].legend(loc='upper center', bbox_to_anchor=(-0.15, -0.7), ncol=6)\n",
    "\n",
    "def pltCatVar(input_Data, bar_order, var,axis,ax_num):\n",
    "    '''\n",
    "    This is the plot function of country distribution regarding to the frequency of the given keywords\n",
    "    *param input_Data: the raw data to process with\n",
    "    *param bar_order: the order of the destination countries\n",
    "    *param var: the keyword of action type that we are interested in\n",
    "    *param axis, ax_num: parameters related to subplot\n",
    "    '''\n",
    "    ctab = pd.crosstab([input_Data[var]], input_Data.country_destination).apply(lambda x: x/x.sum(), axis=1)\n",
    "    temp = [ctab.index[0]] * (ctab.index.size / 5)\n",
    "    temp.extend([ctab.index[ctab.index.size * 1 / 5]] * (ctab.index.size * 2 / 5 - ctab.index.size / 5))\n",
    "    temp.extend([ctab.index[ctab.index.size * 2 / 5]] * (ctab.index.size * 3 / 5 - ctab.index.size * 2 / 5))\n",
    "    temp.extend([ctab.index[ctab.index.size * 3 / 5]] * (ctab.index.size * 4 / 5 - ctab.index.size *3 / 5))\n",
    "    temp.extend([ctab.index[ctab.index.size * 4 / 5]] * (ctab.index.size - ctab.index.size * 4 / 5))\n",
    "    ctab.index = temp\n",
    "    ctab = ctab.groupby(ctab.index).mean()\n",
    "    ax = ctab[bar_order].plot(kind='bar', stacked=True, ax=axis.reshape(-1)[ax_num],legend=False, \n",
    "                         colormap='terrain', title = var)\n",
    "    axis = []\n",
    "    for i in range(4):\n",
    "        axis.append(str(ctab.index[ctab.index.size * i / 5]) + \" to \" + str(ctab.index[ctab.index.size * (i + 1) / 5]))\n",
    "    axis.append(\"greater \" + str(ctab.index[ctab.index.size * 4 / 5]))\n",
    "    ax.set_xticklabels(axis, rotation=45)\n",
    "    if var == 'booking_response':\n",
    "        ax.set_xticklabels([0, 1])\n",
    "        \n",
    "\n",
    "interact(actionTypeCounterVisual, NDF = True, US = True, other = True, FR = True, IT = True, \\\n",
    "         GB = True, ES = True, CA = True, DE = True, NL = True, AU = True, PT = True)"
   ]
  },
  {
   "cell_type": "markdown",
   "metadata": {},
   "source": [
    "The more times of book_request, the more likely to be others\n",
    "\n",
    "If not NDF, large data counts may be FR ,FR and IT has more message_post"
   ]
  }
 ],
 "metadata": {
  "kernelspec": {
   "display_name": "Python 2",
   "language": "python",
   "name": "python2"
  },
  "language_info": {
   "codemirror_mode": {
    "name": "ipython",
    "version": 2
   },
   "file_extension": ".py",
   "mimetype": "text/x-python",
   "name": "python",
   "nbconvert_exporter": "python",
   "pygments_lexer": "ipython2",
   "version": "2.7.14"
  }
 },
 "nbformat": 4,
 "nbformat_minor": 2
}
