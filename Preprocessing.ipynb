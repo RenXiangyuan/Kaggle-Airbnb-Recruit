{
 "cells": [
  {
   "cell_type": "markdown",
   "metadata": {
    "focus": false,
    "id": "9888b97e-bb5e-4d0a-957b-8dee4a615441"
   },
   "source": [
    "# Preprocessing"
   ]
  },
  {
   "cell_type": "code",
   "execution_count": 28,
   "metadata": {
    "focus": false,
    "id": "8a100557-aad7-4e72-89bb-183d46eb09fd"
   },
   "outputs": [],
   "source": [
    "import numpy as np\n",
    "import pandas as pd"
   ]
  },
  {
   "cell_type": "markdown",
   "metadata": {
    "collapsed": true,
    "focus": false,
    "id": "d7dfcbc6-512c-45ce-bcd0-b130be2e2e94"
   },
   "source": [
    "Load the data, in this case a sample data. \n",
    "Working with a sample allow us to debug easier and faster!"
   ]
  },
  {
   "cell_type": "code",
   "execution_count": 29,
   "metadata": {
    "focus": false,
    "id": "b2d35c21-c548-4f59-b18b-53cb72d9a758"
   },
   "outputs": [],
   "source": [
    "train_users = pd.read_csv('input/train_users_2.csv')\n",
    "test_users = pd.read_csv('input/test_users.csv')\n",
    "sessions = pd.read_csv('input/sessions.csv')"
   ]
  },
  {
   "cell_type": "markdown",
   "metadata": {
    "focus": false,
    "id": "fb1b096b-64a2-4060-8a17-f0ea783c3459"
   },
   "source": [
    "Make a single DataFrame containing all the users:"
   ]
  },
  {
   "cell_type": "code",
   "execution_count": 30,
   "metadata": {
    "collapsed": true,
    "focus": false,
    "id": "e6863cc7-730b-4714-9ce7-d0e20e268927"
   },
   "outputs": [],
   "source": [
    "users = pd.concat([train_users, test_users], axis=0, ignore_index=True)"
   ]
  },
  {
   "cell_type": "markdown",
   "metadata": {
    "focus": false,
    "id": "a9e76032-1932-43a7-861c-42a4088ef061"
   },
   "source": [
    "Drop useless column(test_users don't have it)"
   ]
  },
  {
   "cell_type": "code",
   "execution_count": 31,
   "metadata": {
    "focus": false,
    "id": "afc98606-b70b-4380-97c4-e98a0ee4484d"
   },
   "outputs": [],
   "source": [
    "users.drop('date_first_booking', axis=1, inplace=True)"
   ]
  },
  {
   "cell_type": "markdown",
   "metadata": {
    "focus": false,
    "id": "87e9a011-9b7c-4f3f-916a-82c44cfceb74"
   },
   "source": [
    "## Age\n",
    "One of the most important features when making predictions, as we will see later, is the age. \n",
    "Being able to extract information about the users' age is essential to our future predictions.\n",
    "\n",
    "Some users introduced a year instead of their age, translate this year into their age:"
   ]
  },
  {
   "cell_type": "code",
   "execution_count": 32,
   "metadata": {
    "collapsed": true,
    "focus": false,
    "id": "bbc6d349-6233-4812-bec8-d1b4fffec650"
   },
   "outputs": [],
   "source": [
    "user_with_year_age_mask = users['age'] > 1000\n",
    "users.loc[user_with_year_age_mask, 'age'] = 2015 - users.loc[user_with_year_age_mask, 'age']"
   ]
  },
  {
   "cell_type": "markdown",
   "metadata": {
    "focus": false,
    "id": "6c7fed1d-4f93-4ecc-ba47-1c32428564af"
   },
   "source": [
    "Set limits to age:"
   ]
  },
  {
   "cell_type": "code",
   "execution_count": 33,
   "metadata": {
    "collapsed": true,
    "focus": false,
    "id": "9fb8e329-3e41-4cb3-bc26-296ce587a315"
   },
   "outputs": [],
   "source": [
    "users.loc[(users['age'] > 100) | (users['age'] < 18), 'age'] = -1"
   ]
  },
  {
   "cell_type": "markdown",
   "metadata": {
    "focus": false,
    "id": "8a2a6666-c0e1-493d-ab26-2f9e1d28d832"
   },
   "source": [
    "Fill NaNs with -1 to make it more noticiable:"
   ]
  },
  {
   "cell_type": "code",
   "execution_count": 34,
   "metadata": {
    "collapsed": true,
    "focus": false,
    "id": "e18dc43b-3031-4b23-9c94-0dc598b64d8b"
   },
   "outputs": [],
   "source": [
    "users['age'].fillna(-1, inplace=True)"
   ]
  },
  {
   "cell_type": "markdown",
   "metadata": {
    "focus": false,
    "id": "d8f808cd-b31e-4118-b433-0128ba08c622"
   },
   "source": [
    "The age, is really fine grained. We are going to make bins and fit each user in the proper age group:"
   ]
  },
  {
   "cell_type": "code",
   "execution_count": 35,
   "metadata": {
    "focus": false,
    "id": "96bbea38-18d5-4e2b-8588-05d4cee719ea"
   },
   "outputs": [],
   "source": [
    "bins = [-1, 20, 25, 30, 40, 50, 60, 75, 100]\n",
    "users['age_group'] = np.digitize(users['age'], bins, right=True)"
   ]
  },
  {
   "cell_type": "markdown",
   "metadata": {
    "focus": false,
    "id": "f55a1776-7bba-4d4d-ad75-6f12d1354bfe"
   },
   "source": [
    "## NaNs\n",
    "With this snippet we can get the number of unknown things from a given user. \n",
    "This can be usefull for the classifier when deciding where this user is booking."
   ]
  },
  {
   "cell_type": "code",
   "execution_count": 36,
   "metadata": {
    "collapsed": true,
    "focus": false,
    "id": "1e0da25c-f4ff-4d06-852d-bc76c5ab1bee"
   },
   "outputs": [],
   "source": [
    "users['nans'] = np.sum([\n",
    "    (users['age'] == -1),\n",
    "    (users['gender'] == '-unknown-'),\n",
    "    (users['language'] == '-unknown-'),\n",
    "    (users['first_affiliate_tracked'] == 'untracked'),\n",
    "    (users['first_browser'] == '-unknown-')\n",
    "], axis=0)"
   ]
  },
  {
   "cell_type": "markdown",
   "metadata": {
    "focus": false,
    "id": "a6e3db89-ec26-477b-b7b8-31e008df47ae"
   },
   "source": [
    "## Date\n",
    "Cast the dates to proper format:"
   ]
  },
  {
   "cell_type": "code",
   "execution_count": 37,
   "metadata": {
    "collapsed": true
   },
   "outputs": [],
   "source": [
    "users['date_account_created'] = pd.to_datetime(users['date_account_created'], errors='ignore')\n",
    "users['date_first_active'] = pd.to_datetime(users['timestamp_first_active'], format='%Y%m%d%H%M%S')"
   ]
  },
  {
   "cell_type": "markdown",
   "metadata": {},
   "source": [
    "Convert to DatetimeIndex:"
   ]
  },
  {
   "cell_type": "code",
   "execution_count": 38,
   "metadata": {
    "collapsed": true
   },
   "outputs": [],
   "source": [
    "date_account_created = pd.DatetimeIndex(users['date_account_created'])\n",
    "date_first_active = pd.DatetimeIndex(users['date_first_active'])"
   ]
  },
  {
   "cell_type": "markdown",
   "metadata": {},
   "source": [
    "Split dates into day, week, month, year:"
   ]
  },
  {
   "cell_type": "code",
   "execution_count": 39,
   "metadata": {
    "collapsed": true
   },
   "outputs": [],
   "source": [
    "users['day_account_created'] = date_account_created.day\n",
    "users['weekday_account_created'] = date_account_created.weekday\n",
    "users['week_account_created'] = date_account_created.week\n",
    "users['month_account_created'] = date_account_created.month\n",
    "users['year_account_created'] = date_account_created.year\n",
    "users['day_first_active'] = date_first_active.day\n",
    "users['weekday_first_active'] = date_first_active.weekday\n",
    "users['week_first_active'] = date_first_active.week\n",
    "users['month_first_active'] = date_first_active.month\n",
    "users['year_first_active'] = date_first_active.year"
   ]
  },
  {
   "cell_type": "markdown",
   "metadata": {},
   "source": [
    "Get the difference(time lag) between the date in which the account was created and when it was first active:"
   ]
  },
  {
   "cell_type": "code",
   "execution_count": 40,
   "metadata": {
    "focus": false,
    "id": "bfb2ce31-6918-4a07-97e5-f812604a3a84"
   },
   "outputs": [],
   "source": [
    "users['time_lag'] = (date_account_created.values - date_first_active.values).astype(int)"
   ]
  },
  {
   "cell_type": "markdown",
   "metadata": {},
   "source": [
    "Drop duplicated columns:"
   ]
  },
  {
   "cell_type": "code",
   "execution_count": 41,
   "metadata": {
    "focus": false,
    "id": "e599a65e-d321-4402-b89c-935046320fa9"
   },
   "outputs": [],
   "source": [
    "drop_list = [\n",
    "    'date_account_created',\n",
    "    'date_first_active',\n",
    "    'timestamp_first_active'\n",
    "]\n",
    "\n",
    "users.drop(drop_list, axis=1, inplace=True)"
   ]
  },
  {
   "cell_type": "markdown",
   "metadata": {
    "focus": false,
    "id": "774a6ef8-6995-4b9f-b0d6-e9eb95948b95"
   },
   "source": [
    "## Session Information\n",
    "\n",
    "There is a lot of information in the `sessions.csv` file. We will focus on get a count of each user action and some\n",
    "statistics about their seconds elapsed. Further preprocessing could be benneficial to the final predictions."
   ]
  },
  {
   "cell_type": "code",
   "execution_count": 42,
   "metadata": {
    "collapsed": true,
    "focus": false,
    "id": "a7395fa2-c86b-459a-9123-4bc6f59cac03"
   },
   "outputs": [],
   "source": [
    "sessions.rename(columns = {'user_id': 'id'}, inplace=True)"
   ]
  },
  {
   "cell_type": "markdown",
   "metadata": {
    "focus": false,
    "id": "f40ad497-7842-42bc-bdb2-4266265b3707"
   },
   "source": [
    "### Frequency Count\n",
    "This simply counts the number of times an action is made by each user. One thing I learned from this \n",
    "competition is to really understand what you want to do and not begin to code an \n",
    "[over-engineered](https://github.com/davidgasquez/kaggle-airbnb/blob/4aa8bc904141720099610343b929f09ef60b246c/scripts/feature_engeenering.py#L75-L95) \n",
    "solution(KISS)."
   ]
  },
  {
   "cell_type": "code",
   "execution_count": 43,
   "metadata": {
    "collapsed": true,
    "focus": false,
    "id": "5f52a39b-3fdf-4be5-8b24-ff435620181e"
   },
   "outputs": [],
   "source": [
    "action_count = sessions.groupby(['id', 'action'])['secs_elapsed'].agg(len).unstack()\n",
    "action_type_count = sessions.groupby(['id', 'action_type'])['secs_elapsed'].agg(len).unstack()\n",
    "action_detail_count = sessions.groupby(['id', 'action_detail'])['secs_elapsed'].agg(len).unstack()\n",
    "device_type_sum = sessions.groupby(['id', 'device_type'])['secs_elapsed'].agg(sum).unstack()\n",
    "\n",
    "sessions_data = pd.concat([action_count, action_type_count, action_detail_count, device_type_sum],axis=1)\n",
    "sessions_data.columns = sessions_data.columns.map(lambda x: str(x) + '_count')\n",
    "\n",
    "# Most used device\n",
    "sessions_data['most_used_device'] = sessions.groupby('id')['device_type'].max()\n",
    "\n",
    "users = users.join(sessions_data, on='id')"
   ]
  },
  {
   "cell_type": "markdown",
   "metadata": {
    "focus": false,
    "id": "ff047268-ad6c-4d14-a1aa-66c364065039"
   },
   "source": [
    "### Elapsed Seconds Stats\n",
    "Now we are going to extract some information about the seconds elapsed per user.\n",
    "Since we don't know exactly what is `secs_elapsed`, I've assumed that are paused between actions:"
   ]
  },
  {
   "cell_type": "code",
   "execution_count": 44,
   "metadata": {
    "focus": false,
    "id": "9f8dbd22-d782-4ffb-a991-4bcd46e42911"
   },
   "outputs": [
    {
     "name": "stderr",
     "output_type": "stream",
     "text": [
      "/Users/qinsiqi/anaconda2/lib/python2.7/site-packages/ipykernel_launcher.py:15: FutureWarning: using a dict on a Series for aggregation\n",
      "is deprecated and will be removed in a future version\n",
      "  from ipykernel import kernelapp as app\n"
     ]
    }
   ],
   "source": [
    "secs_elapsed = sessions.groupby('id')['secs_elapsed']\n",
    "\n",
    "secs_elapsed = secs_elapsed.agg(\n",
    "    {\n",
    "        'secs_elapsed_sum': np.sum,\n",
    "        'secs_elapsed_mean': np.mean,\n",
    "        'secs_elapsed_min': np.min,\n",
    "        'secs_elapsed_max': np.max,\n",
    "        'secs_elapsed_median': np.median,\n",
    "        'secs_elapsed_std': np.std,\n",
    "        'secs_elapsed_var': np.var,\n",
    "        'day_pauses': lambda x: (x > 86400).sum(),\n",
    "        'long_pauses': lambda x: (x > 300000).sum(),\n",
    "        'short_pauses': lambda x: (x < 3600).sum(),\n",
    "        'session_length' : np.count_nonzero\n",
    "    }\n",
    ")\n",
    "\n",
    "users = users.join(secs_elapsed, on='id')"
   ]
  },
  {
   "cell_type": "markdown",
   "metadata": {
    "focus": false,
    "id": "9a36af2d-5cc3-4ace-9e0b-54711f0e73d2"
   },
   "source": [
    "Encode categorical features"
   ]
  },
  {
   "cell_type": "code",
   "execution_count": 45,
   "metadata": {
    "focus": false,
    "id": "172fd4fe-d328-4bda-9acd-422f927f5ef4"
   },
   "outputs": [],
   "source": [
    "categorical_features = [\n",
    "    'gender', 'signup_method', 'signup_flow', 'language',\n",
    "    'affiliate_channel', 'affiliate_provider', 'first_affiliate_tracked',\n",
    "    'signup_app', 'first_device_type', 'first_browser', 'most_used_device'\n",
    "]\n",
    "users = pd.get_dummies(users, columns=categorical_features)"
   ]
  },
  {
   "cell_type": "markdown",
   "metadata": {},
   "source": [
    "Now the users includes the processed data of both train_users and test_users, we can split them into training and test set again based on the id."
   ]
  }
 ],
 "metadata": {
  "kernelspec": {
   "display_name": "Python 2",
   "language": "python",
   "name": "python2"
  },
  "language_info": {
   "codemirror_mode": {
    "name": "ipython",
    "version": 2
   },
   "file_extension": ".py",
   "mimetype": "text/x-python",
   "name": "python",
   "nbconvert_exporter": "python",
   "pygments_lexer": "ipython2",
   "version": "2.7.14"
  }
 },
 "nbformat": 4,
 "nbformat_minor": 1
}
