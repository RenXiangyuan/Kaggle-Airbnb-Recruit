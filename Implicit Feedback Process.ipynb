{
 "cells": [
  {
   "cell_type": "code",
   "execution_count": 12,
   "metadata": {},
   "outputs": [],
   "source": [
    "import numpy as np\n",
    "import pandas as pd\n",
    "import scipy.stats as stats\n",
    "import collections"
   ]
  },
  {
   "cell_type": "code",
   "execution_count": 7,
   "metadata": {},
   "outputs": [],
   "source": [
    "INDEX_COLUMN = 'user_id'\n",
    "SECS_ELAPSED_NUMERICAL = 'secs_elapsed'\n",
    "CATEGORICAL_FEATURES = ['action', 'action_type', 'action_detail', 'device_type']\n",
    "SESSSIONS_CSV_FILE = 'input/sessions.csv'\n",
    "OUTPUT_TO_CSV_FILE = 'input/session_features.csv'"
   ]
  },
  {
   "cell_type": "code",
   "execution_count": 3,
   "metadata": {},
   "outputs": [],
   "source": [
    "VALUE_THRESHOLD = 0.005"
   ]
  },
  {
   "cell_type": "code",
   "execution_count": null,
   "metadata": {},
   "outputs": [],
   "source": []
  },
  {
   "cell_type": "code",
   "execution_count": null,
   "metadata": {},
   "outputs": [],
   "source": []
  },
  {
   "cell_type": "code",
   "execution_count": 4,
   "metadata": {},
   "outputs": [],
   "source": [
    "def extract_frequency_counts(pd_frame, column_list):\n",
    "    \"\"\" Extract frequency counts from pd_frame.\n",
    "    For each index (that correspond to a user) this method will count the\n",
    "    number of times that C == Ci, where C is a column in column_list, and Ci\n",
    "    is a unique value of that column. The arg olumn_list is assumed\n",
    "    to contain categorical columns.\n",
    "    Args:\n",
    "        df_frame -- A pandas data frame.\n",
    "        column_list -- A list of columns.\n",
    "    Returns:\n",
    "        A pandas DataFrame, containing frequency counts.\n",
    "    \"\"\"\n",
    "    df_extracted_sessions = []\n",
    "    for col in column_list:\n",
    "        for val in set(pd_frame[col]):\n",
    "            print 'Extracting frequency counts for (%s == %s)' % (col, val)\n",
    "            tmp_df = pd_frame.groupby(pd_frame.index).apply(\n",
    "                lambda group, x=col, y=val: np.sum(group[x] == y))\n",
    "            tmp_df.name = '%s=%s' % (col, val)\n",
    "            df_extracted_sessions.append(tmp_df)\n",
    "    frequency_counts = pd.concat(df_extracted_sessions, axis=1)\n",
    "    return frequency_counts\n",
    "\n",
    "\n",
    "def extract_distribution_stats(pd_frame, numerical_col):\n",
    "    \"\"\" Extract simple distribution statistics from a numerical column.\n",
    "    Args:\n",
    "        df_frame -- A pandas data frame.\n",
    "        numerical_col -- A column in pd_frame that contains numerical values.\n",
    "    Returns:\n",
    "        A pandas DataFrame, containing simple satistics for col_name.\n",
    "    \"\"\"\n",
    "    tmp_df = pd_frame[numerical_col].groupby(pd_frame.index).aggregate(\n",
    "        [np.mean, np.std, np.median, stats.skew])\n",
    "    tmp_df.columns = ['%s_%s'% (numerical_col, i) for i in tmp_df.columns]\n",
    "    return tmp_df"
   ]
  },
  {
   "cell_type": "code",
   "execution_count": 10,
   "metadata": {},
   "outputs": [],
   "source": [
    "def remove_rare_values_inplace(df_frame, column_list, threshold):\n",
    "    \"\"\" Remove rare values to speed up computation.\n",
    "    Args:\n",
    "        df_frame -- A pandas data frame.\n",
    "        column_list -- A list of columns.\n",
    "        threshold -- The threshold, below which a value is removed.\n",
    "    \"\"\"\n",
    "    insignificant_population = int(np.floor(threshold * len(df_frame)))\n",
    "    for cat in column_list:\n",
    "        freqs = collections.Counter(df_frame[cat])\n",
    "        other = [i for i in freqs if freqs[i] < insignificant_population]\n",
    "        for i in other:\n",
    "            df_frame[cat].replace(i, 'other', inplace=True)"
   ]
  },
  {
   "cell_type": "code",
   "execution_count": null,
   "metadata": {},
   "outputs": [],
   "source": []
  },
  {
   "cell_type": "code",
   "execution_count": 8,
   "metadata": {},
   "outputs": [],
   "source": [
    "# Loading basic training and testing data, from CSV file.\n",
    "sessions = pd.read_csv(SESSSIONS_CSV_FILE)\n",
    "sessions.set_index(INDEX_COLUMN, inplace=True)\n",
    "sessions.fillna(-1, inplace=True)"
   ]
  },
  {
   "cell_type": "code",
   "execution_count": 13,
   "metadata": {},
   "outputs": [
    {
     "name": "stdout",
     "output_type": "stream",
     "text": [
      "Extracting frequency counts for (action == show)\n",
      "Extracting frequency counts for (action == similar_listings)\n",
      "Extracting frequency counts for (action == index)\n",
      "Extracting frequency counts for (action == search_results)\n",
      "Extracting frequency counts for (action == confirm_email)\n",
      "Extracting frequency counts for (action == create)\n",
      "Extracting frequency counts for (action == header_userpic)\n",
      "Extracting frequency counts for (action == lookup)\n",
      "Extracting frequency counts for (action == collections)\n",
      "Extracting frequency counts for (action == requested)\n",
      "Extracting frequency counts for (action == qt2)\n",
      "Extracting frequency counts for (action == personalize)\n",
      "Extracting frequency counts for (action == update)\n",
      "Extracting frequency counts for (action == track_page_view)\n",
      "Extracting frequency counts for (action == notifications)\n",
      "Extracting frequency counts for (action == active)\n",
      "Extracting frequency counts for (action == similar_listings_v2)\n",
      "Extracting frequency counts for (action == identity)\n",
      "Extracting frequency counts for (action == social_connections)\n",
      "Extracting frequency counts for (action == unavailabilities)\n",
      "Extracting frequency counts for (action == campaigns)\n",
      "Extracting frequency counts for (action == search)\n",
      "Extracting frequency counts for (action == ajax_refresh_subtotal)\n",
      "Extracting frequency counts for (action == edit)\n",
      "Extracting frequency counts for (action == reviews)\n",
      "Extracting frequency counts for (action == dashboard)\n",
      "Extracting frequency counts for (action == other)\n",
      "Extracting frequency counts for (action == -1)\n",
      "Extracting frequency counts for (action_type == -unknown-)\n",
      "Extracting frequency counts for (action_type == submit)\n",
      "Extracting frequency counts for (action_type == other)\n",
      "Extracting frequency counts for (action_type == message_post)\n",
      "Extracting frequency counts for (action_type == data)\n",
      "Extracting frequency counts for (action_type == click)\n",
      "Extracting frequency counts for (action_type == -1)\n",
      "Extracting frequency counts for (action_type == view)\n",
      "Extracting frequency counts for (action_detail == user_wishlists)\n",
      "Extracting frequency counts for (action_detail == create_user)\n",
      "Extracting frequency counts for (action_detail == confirm_email_link)\n",
      "Extracting frequency counts for (action_detail == change_trip_characteristics)\n",
      "Extracting frequency counts for (action_detail == similar_listings)\n",
      "Extracting frequency counts for (action_detail == message_post)\n",
      "Extracting frequency counts for (action_detail == view_search_results)\n",
      "Extracting frequency counts for (action_detail == wishlist_content_update)\n",
      "Extracting frequency counts for (action_detail == -unknown-)\n",
      "Extracting frequency counts for (action_detail == header_userpic)\n",
      "Extracting frequency counts for (action_detail == listing_reviews)\n",
      "Extracting frequency counts for (action_detail == message_thread)\n",
      "Extracting frequency counts for (action_detail == user_social_connections)\n",
      "Extracting frequency counts for (action_detail == user_profile)\n",
      "Extracting frequency counts for (action_detail == edit_profile)\n",
      "Extracting frequency counts for (action_detail == update_listing)\n",
      "Extracting frequency counts for (action_detail == p3)\n",
      "Extracting frequency counts for (action_detail == contact_host)\n",
      "Extracting frequency counts for (action_detail == dashboard)\n",
      "Extracting frequency counts for (action_detail == unavailable_dates)\n",
      "Extracting frequency counts for (action_detail == other)\n",
      "Extracting frequency counts for (action_detail == -1)\n",
      "Extracting frequency counts for (device_type == Windows Desktop)\n",
      "Extracting frequency counts for (device_type == Tablet)\n",
      "Extracting frequency counts for (device_type == -unknown-)\n",
      "Extracting frequency counts for (device_type == Android App Unknown Phone/Tablet)\n",
      "Extracting frequency counts for (device_type == Mac Desktop)\n",
      "Extracting frequency counts for (device_type == other)\n",
      "Extracting frequency counts for (device_type == iPhone)\n",
      "Extracting frequency counts for (device_type == iPad Tablet)\n",
      "Extracting frequency counts for (device_type == Android Phone)\n"
     ]
    }
   ],
   "source": [
    "# Extract features from sessions.\n",
    "remove_rare_values_inplace(sessions, CATEGORICAL_FEATURES, VALUE_THRESHOLD)\n",
    "frequency_counts = extract_frequency_counts(sessions, CATEGORICAL_FEATURES)\n",
    "simple_stats = extract_distribution_stats(sessions, SECS_ELAPSED_NUMERICAL)\n",
    "# Save new data.\n",
    "session_data = pd.concat((frequency_counts, simple_stats), axis=1)\n",
    "session_data.fillna(-1, inplace=True)\n",
    "session_data.to_csv(OUTPUT_TO_CSV_FILE)"
   ]
  },
  {
   "cell_type": "code",
   "execution_count": null,
   "metadata": {},
   "outputs": [],
   "source": []
  }
 ],
 "metadata": {
  "kernelspec": {
   "display_name": "Python 2",
   "language": "python",
   "name": "python2"
  },
  "language_info": {
   "codemirror_mode": {
    "name": "ipython",
    "version": 2
   },
   "file_extension": ".py",
   "mimetype": "text/x-python",
   "name": "python",
   "nbconvert_exporter": "python",
   "pygments_lexer": "ipython2",
   "version": "2.7.13"
  }
 },
 "nbformat": 4,
 "nbformat_minor": 2
}
